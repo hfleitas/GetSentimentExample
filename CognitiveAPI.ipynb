{
    "metadata": {
        "kernelspec": {
            "name": "python3",
            "display_name": "Python 3"
        },
        "language_info": {
            "name": "python",
            "version": "3.6.6",
            "mimetype": "text/x-python",
            "codemirror_mode": {
                "name": "ipython",
                "version": 3
            },
            "pygments_lexer": "ipython3",
            "nbconvert_exporter": "python",
            "file_extension": ".py"
        }
    },
    "nbformat_minor": 2,
    "nbformat": 4,
    "cells": [
        {
            "cell_type": "code",
            "source": "create or alter proc CreatePyModelRealtimeScoringOnly as\r\n\t\r\n\tdeclare @model varbinary(max), @train_script nvarchar(max);\r\n\tdelete top(1) from models where model_name = 'RevoMMLRealtimeScoring' and language = 'Py';\r\n\t\r\n\t--The Python script we want to execute\r\n\tset @train_script = N'\r\nfrom microsoftml import rx_logistic_regression, featurize_text, n_gram\r\nfrom revoscalepy import rx_serialize_model, RxOdbcData, rx_write_object, RxInSqlServer, rx_set_compute_context, RxLocalSeq\r\n\r\nconnection_string = \"Driver=SQL Server;Server=localhost;Database=tpcxbb_1gb;Trusted_Connection=true;\"\r\ndest = RxOdbcData(connection_string, table = \"models\")\r\n \r\ntraining_data[\"tag\"] = training_data[\"tag\"].astype(\"category\")\r\n\r\nmodelpy = rx_logistic_regression(formula = \"tag ~ features\",\r\n\t\t\t\t\t\t\t\t data = training_data, \r\n\t\t\t\t\t\t\t\t method = \"multiClass\", \r\n\t\t\t\t\t\t\t\t ml_transforms=[featurize_text(language=\"English\",\r\n\t\t\t\t\t\t\t\t\t\t\t\t\t\t\t   cols=dict(features=\"pr_review_content\"),\r\n\t\t\t\t\t\t\t\t\t\t\t\t\t\t\t   word_feature_extractor=n_gram(2, weighting=\"TfIdf\"))],\r\n\t\t\t\t\t\t\t\t train_threads=1)\r\n\r\nmodelbin = rx_serialize_model(modelpy, realtime_scoring_only = True)\r\nrx_write_object(dest, key_name=\"model_name\", key=\"RevoMMLRealtimeScoring\", value_name=\"model\", value=modelbin, serialize=False, compress=None, overwrite=False)'; --overwrite=false on 2019, true on 2017.\r\n\r\n\texec sp_execute_external_script @language = N'Python'\r\n\t\t,@script = @train_script\r\n\t\t,@input_data_1 = N'select * from product_reviews_training_data'\r\n\t\t,@input_data_1_name = N'training_data'\r\ngo",
            "metadata": {},
            "outputs": [],
            "execution_count": 0
        },
        {
            "cell_type": "markdown",
            "source": "# 🐾 Steps\r\nhttps://docs.microsoft.com/azure/cognitive-services/text-analytics/quickstarts/python, \r\nhttps://azure.microsoft.com/services/cognitive-services/text-analytics",
            "metadata": {}
        },
        {
            "cell_type": "code",
            "source": "import requests\r\nfrom pprint import pprint\r\nfrom IPython.display import HTML\r\n\r\nsubscription_key = \"mykey\" #https://portal.azure.com/#@fleitasarts.com/resource/subscriptions/eaab21d5-8ecd-4ef0-a0c4-92fac2e22875/resourceGroups/rg4/providers/Microsoft.CognitiveServices/accounts/trollhunters/keys\r\ntext_analytics_base_url = \"https://eastus2.api.cognitive.microsoft.com/text/analytics/v2.0/\"\r\nsentiment_url = text_analytics_base_url + \"sentiment\"\r\n\r\ndocuments = {\"documents\" : [\r\n  {\"id\": \"1\", \"language\": \"en\", \"text\": \"I had a wonderful experience! The rooms were wonderful and the staff was helpful.\"},\r\n  {\"id\": \"2\", \"language\": \"en\", \"text\": \"I had a terrible time at the hotel. The staff was rude and the food was awful.\"},  \r\n  {\"id\": \"3\", \"language\": \"es\", \"text\": \"Los caminos que llevan hasta Monte Rainier son espectaculares y hermosos.\"},  \r\n  {\"id\": \"4\", \"language\": \"es\", \"text\": \"La carretera estaba atascada. Había mucho tráfico el día de ayer.\"}\r\n]}\r\n\r\nheaders   = {\"Ocp-Apim-Subscription-Key\": subscription_key}\r\nresponse  = requests.post(sentiment_url, headers=headers, json=documents)\r\nsentiments = response.json()\r\npprint(sentiments)",
            "metadata": {},
            "outputs": [
                {
                    "output_type": "stream",
                    "name": "stdout",
                    "text": "{'documents': [{'id': '1', 'score': 0.9708490371704102},\n               {'id': '2', 'score': 0.0019068121910095215},\n               {'id': '3', 'score': 0.7456425428390503},\n               {'id': '4', 'score': 0.334433376789093}],\n 'errors': []}\n"
                }
            ],
            "execution_count": 4
        },
        {
            "cell_type": "markdown",
            "source": "## 🍖 ref Yelp.py next",
            "metadata": {}
        }
    ]
}