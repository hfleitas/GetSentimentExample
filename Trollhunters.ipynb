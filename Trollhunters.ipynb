{
    "metadata": {
        "kernelspec": {
            "name": "SQL",
            "display_name": "SQL",
            "language": "sql"
        },
        "language_info": {
            "name": "sql",
            "version": ""
        }
    },
    "nbformat_minor": 2,
    "nbformat": 4,
    "cells": [
        {
            "cell_type": "markdown",
            "source": "## 🐱‍👤 Gato Ninja, Don't forget the 🔑\r\nhttps://tvtropes.org/pmwiki/pmwiki.php/Quotes/Trollhunters",
            "metadata": {}
        },
        {
            "cell_type": "code",
            "source": "drop table if exists quotes;\r\n\r\ncreate table quotes (\r\n    quoteid     int             identity(1,1) primary key clustered,\r\n    character   varchar(128)    not null,\r\n    quote       nvarchar(max)   not null,\r\n    sentiment   float\r\n);\r\n\r\ninsert into quotes (character, quote)\r\nvalues \r\n ('The Magical Incantation that activates the Amulet', 'For the glory of Merlin, Daylight is mine to command!')\r\n,('Strickler', 'Now, I think I know what has you so distraught, Jim.')\r\n,('Jim', 'You do?')\r\n,('Strickler', 'It''s like I told you yesterday, you have a lot on your shoulders. Too much, in my opinion, for someone your age. And I think that this opportunity...')\r\n,('Jim', 'Chess?')\r\n,('Strickler', '...I think it''s causing you anxiety. I know you want to be there for your mother, but it''s as a great poet once wrote, \"\"Do what''s good for you, or you''re not good for anybody.\"\" [Bell goes off.]')\r\n,('Jim', 'Hey thanks for the advice. I like talking to you.')\r\n,('Strickler', 'Always.')\r\n\r\n,('Jim', 'So, the previous Trollhunter, what, retired?.')\r\n,('AAARRRGGHH!!!', 'Was felled.')\r\n,('Jim', 'Felled?')\r\n,('AAARRRGGHH!!!', 'Means killed.')\r\n,('Blinky', 'Turned to stone and smashed. Kanjigar the Courageous was his name. Brutally slain by a ruthless troll named Bular.')\r\n,('Tobes', 'Don''t worry dude. This Bular guy probably just got lucky.')\r\n,('Blinky', 'The evidence does not suggest that. Bular is a formidable opponent.')\r\n,('Jim', 'Then the other guy, he was just off his game or something, right?')\r\n,('Blinky', 'Doubtful. Kanjigar was perhaps the most alert and able of all the Trollhunters.')\r\n,('Jim', 'But not the best, I''m betting.')\r\n,('Blinky', 'Oh, the very best. Many songs and sagas have been written about him.')\r\n\r\n,('Blinky', 'Destiny is a gift. Some go their entire lives, living existence as a quiet desperation. Never learning the truth that what feels as though a burden pushing down upon our shoulders, is actually, a sense of purpose that lifts us to greater heights. Never forget that fear is but the precursor to valour, that to strive and triumph in the face of fear, is what is means to be a hero. Don''t think, Master Jim. Become!')\r\n\r\n,('AAARRRGGHH!!!', 'Amulet chose.')\r\n,('Vendal', 'So Draal tells me... ridiculous. However, the amulet has been known to make ill-fated choices, as you know better than most.')\r\n,('Jim', 'What''s that mean?')\r\n,('AAARRRGGHH!!!', 'Blinky trained Trollhunter before. Unkar \"\"the Unfortunate.\"\"')\r\n,('Jim', 'Why is he unfortunate?')\r\n,('AAARRRGGHH!!!', 'First night out, torn.')\r\n,('Jim', 'Like, conflicted?')\r\n,('AAARRRGGHH!!!', 'No. Limb from limb.')\r\n\r\n,('Vendel', 'You''ve never met a conspiracy theory you didn''t like.')\r\n,('Blinky', 'I hate conspiracies. That is why I am dedicates to rooting them out.')\r\n,('Vendel', 'Like you rooted out the plot to rid Trollmarket of all its cat meat?')\r\n,('Blinky', 'That was a misunderstanding.')\r\n,('Vendel', 'Or the time you were convinced we were infested with flea trolls?')\r\n,('Blinky', 'Precaution is the soul of virtue.')\r\n,('Vendel', 'Everyone in Troll Market thinks you''re paranoid.')\r\n,('Blinky', 'If it''s everyone, it must be a conspiracy!')\r\n\r\n,('Jim', 'Sixteenth birthday, but do I get a Vespa? No. I get a food processor and a killer flying troll!')\r\n,('Barbara Lake', 'I don''t care what you''re doing, but if you''re not out of my house in five-seconds, I have an orange belt in Krav Maga, and I will not hesitate to use it.')\r\n,('Vendel', 'You humans cut stones to unlock their beauty, but trolls cut stones to unlock their power.')\r\n,('Blinky', 'Ah! Powers of this device are limited to three rules. According to the inscription, if my Salickacious is correct, the first is that only one person can step outside of time.')\r\n,('Toby', 'Oh.')\r\n,('Blinky', 'Secondly, the time-stopping effect lasts for precisely 43 minutes and 9 seconds.')\r\n,('Claire', 'And the third?')\r\n,('Blinky', 'You can only use it, uh… three times. Well! Now, we know the rules!')\r\n,('Toby', 'Wait! You just used that thing, like, twice!')\r\n,('Blinky', 'Well the first was to test its ability and the second, to demonstrate it to all of you.')\r\n,('Jim', 'Blink, you wasted our shots!')\r\n\r\n,('Magical Incantation that appears on the Amulet', 'For the doom of Gunmar, Eclipse is mine to command!')\r\n\r\n,('Blinky', 'Not a rock. Dwärkstone.')\r\n,('Jim', 'Dork-stone?')\r\n,('Blinky', 'Dwärkstone.')\r\n,('Claire', 'Dork-stone?')\r\n,('Aaarrrgghh!!!', 'Close enough.')\r\n,('Blinky', 'Dwärkstone is incredibly rare, highly volatile, and the only guaranteed way to expel a gruesome.')\r\n,('Toby', 'All I''m hearing is \"\"dork-stone.\"\"')\r\n\r\n,('Otto', 'And once the vicious one realizes he has no further use for an old, blind troll… I— Well.. [Does the Throat-Slitting Gesture.]')\r\n,('Dictatious', '…well, what? You know I can''t see.')\r\n,('Otto', 'Oh. I moves my thumb across my throat. It is, as we say, a killing motion.')\r\n\r\n,('Claire', 'Let''s try \"good cop, bad cop.\"')\r\n,('Blinky', 'I think I know where you’re going with this. I shall play this game.[Claire knocks on door] Open up, RotGut, or I''ll kick down this door! [RotGut answers.]')\r\n,('Gut', 'Ailment or curse?')\r\n,('Claire', 'Neither, you two-headed dirtbag! We need information. Gunmar’s got a mole down here, and you''re gonna tell us who it is!')\r\n,('Rot', 'Why is she being so mean to us, Gut?')\r\n,('Gut', 'We don''t share this sort of thing. Salesman-client confidentiality.')\r\n,('Claire', 'Oh, you wanna obstruct official Trollhunting business? Is that what you wanna do? Now you''ve done it! I feel my anger rising. I can''t control it. You might want to talk to my partner, because I''m about to explode! [Claire winks to Blinky. He winks back.]')\r\n,('Blinky', 'Ahem. [Blinky shouts and pulls out a live dwärkstone.] If you don''t tell us what we need to know this instant, I''m turning us all into a smoking crater! [RotGut shuts their windows.]')\r\n,('Gut', 'Are you insane? You''re gonna kill us all!')\r\n,('Claire', 'Whoa whoa, Blinky, what are you doing?')\r\n,('Blinky', 'I''m buying baby. I''m buying the farm if they don''t start talking!')\r\n,('Claire', 'Wait, I thought I was the bad cop.')\r\n,('Blinky', 'I thought I was the bad cop. Your performance felt a little ho-hum.')\r\n,('Draal', 'It has been my honor ... fleshbag.')\r\n\r\n,('Claire', 'Let''s try \"good cop, bad cop.\"')\r\n,('Blinky', 'I think I know where you''re going with this. I shall play this game. [Claire knocks on door] Open up, RotGut, or I''ll kick down this door! [RotGut answers.]')\r\n,('Gut', 'Ailment or curse?')\r\n,('Claire', 'Neither, you two-headed dirtbag! We need information. Gunmar''s got a mole down here, and you''re gonna tell us who it is!')\r\n,('Rot', 'Why is she being so mean to us, Gut?')\r\n,('Gut', 'We don''t share this sort of thing. Salesman-client confidentiality.')\r\n,('Claire', 'Oh, you wanna obstruct official Trollhunting business? Is that what you wanna do? Now you''ve done it! I feel my anger rising. I can''t control it. You might want to talk to my partner, because I''m about to explode! [Claire winks to Blinky. He winks back.]')\r\n,('Blinky', 'Ahem. [Blinky shouts and pulls out a live dwärkstone.] If you don''t tell us what we need to know this instant, I''m turning us all into a smoking crater! [RotGut shuts their windows.]')\r\n,('Gut', 'Are you insane? You''re gonna kill us all!')\r\n,('Claire', 'Whoa whoa, Blinky, what are you doing?')\r\n,('Blinky', 'I’m buying baby. I''m buying the farm if they don''t start talking!')\r\n,('Claire', 'Wait, I thought I was the bad cop.')\r\n,('Blinky', 'I thought I was the bad cop. Your performance felt a little ho-hum.')\r\n;",
            "metadata": {},
            "outputs": [
                {
                    "output_type": "display_data",
                    "data": {
                        "text/html": "(85 rows affected)"
                    },
                    "metadata": {}
                },
                {
                    "output_type": "display_data",
                    "data": {
                        "text/html": "Total execution time: 00:00:00.033"
                    },
                    "metadata": {}
                }
            ],
            "execution_count": 5
        },
        {
            "cell_type": "markdown",
            "source": "## 🧠‍‍ 👓",
            "metadata": {}
        },
        {
            "cell_type": "code",
            "source": "drop view if exists JsonQuotes\r\ngo\r\ncreate view JsonQuotes\r\nas \r\nselect (\r\n    select  top 10\r\n            quoteid as id, \r\n            'en' as language, \r\n            Quote as text \r\n    from    Quotes \r\n    for json path, root('documents')\r\n) as documents\r\ngo\r\nexec sp_execute_external_script @language = N'Python'\r\n    ,@script = N'DocOut = DocIn'\r\n    ,@input_data_1 = N'select * from JsonQuotes;'\r\n    ,@input_data_1_name  = N'DocIn'\r\n    ,@output_data_1_name =  N'DocOut'\r\nwith result sets ((DocOut varchar(max)));\r\ngo",
            "metadata": {},
            "outputs": [
                {
                    "output_type": "display_data",
                    "data": {
                        "text/html": "Commands completed successfully."
                    },
                    "metadata": {}
                },
                {
                    "output_type": "display_data",
                    "data": {
                        "text/html": "Commands completed successfully."
                    },
                    "metadata": {}
                },
                {
                    "output_type": "display_data",
                    "data": {
                        "text/html": "(1 row affected)"
                    },
                    "metadata": {}
                },
                {
                    "output_type": "display_data",
                    "data": {
                        "text/html": "Total execution time: 00:00:00.318"
                    },
                    "metadata": {}
                },
                {
                    "output_type": "execute_result",
                    "metadata": {},
                    "execution_count": 8,
                    "data": {
                        "application/vnd.dataresource+json": {
                            "schema": {
                                "fields": [
                                    {
                                        "name": "DocOut"
                                    }
                                ]
                            },
                            "data": [
                                {
                                    "0": "{\"documents\":[{\"id\":1,\"language\":\"en\",\"text\":\"For the glory of Merlin, Daylight is mine to command!\"},{\"id\":2,\"language\":\"en\",\"text\":\"Now, I think I know what has you so distraught, Jim.\"},{\"id\":3,\"language\":\"en\",\"text\":\"You do?\"},{\"id\":4,\"language\":\"en\",\"text\":\"It's like I told you yesterday, you have a lot on your shoulders. Too much, in my opinion, for someone your age. And I think that this opportunity...\"},{\"id\":5,\"language\":\"en\",\"text\":\"Chess?\"},{\"id\":6,\"language\":\"en\",\"text\":\"...I think it's causing you anxiety. I know you want to be there for your mother, but it's as a great poet once wrote, \\\"\\\"Do what's good for you, or you're not good for anybody.\\\"\\\" [Bell goes off.]\"},{\"id\":7,\"language\":\"en\",\"text\":\"Hey thanks for the advice. I like talking to you.\"},{\"id\":8,\"language\":\"en\",\"text\":\"Always.\"},{\"id\":9,\"language\":\"en\",\"text\":\"So, the previous Trollhunter, what, retired?.\"},{\"id\":10,\"language\":\"en\",\"text\":\"Was felled.\"}]}"
                                }
                            ]
                        },
                        "text/html": "<table><tr><th>DocOut</th></tr><tr><td>{&quot;documents&quot;:[{&quot;id&quot;:1,&quot;language&quot;:&quot;en&quot;,&quot;text&quot;:&quot;For the glory of Merlin, Daylight is mine to command!&quot;},{&quot;id&quot;:2,&quot;language&quot;:&quot;en&quot;,&quot;text&quot;:&quot;Now, I think I know what has you so distraught, Jim.&quot;},{&quot;id&quot;:3,&quot;language&quot;:&quot;en&quot;,&quot;text&quot;:&quot;You do?&quot;},{&quot;id&quot;:4,&quot;language&quot;:&quot;en&quot;,&quot;text&quot;:&quot;It's like I told you yesterday, you have a lot on your shoulders. Too much, in my opinion, for someone your age. And I think that this opportunity...&quot;},{&quot;id&quot;:5,&quot;language&quot;:&quot;en&quot;,&quot;text&quot;:&quot;Chess?&quot;},{&quot;id&quot;:6,&quot;language&quot;:&quot;en&quot;,&quot;text&quot;:&quot;...I think it's causing you anxiety. I know you want to be there for your mother, but it's as a great poet once wrote, \\&quot;\\&quot;Do what's good for you, or you're not good for anybody.\\&quot;\\&quot; [Bell goes off.]&quot;},{&quot;id&quot;:7,&quot;language&quot;:&quot;en&quot;,&quot;text&quot;:&quot;Hey thanks for the advice. I like talking to you.&quot;},{&quot;id&quot;:8,&quot;language&quot;:&quot;en&quot;,&quot;text&quot;:&quot;Always.&quot;},{&quot;id&quot;:9,&quot;language&quot;:&quot;en&quot;,&quot;text&quot;:&quot;So, the previous Trollhunter, what, retired?.&quot;},{&quot;id&quot;:10,&quot;language&quot;:&quot;en&quot;,&quot;text&quot;:&quot;Was felled.&quot;}]}</td></tr></table>"
                    }
                }
            ],
            "execution_count": 8
        },
        {
            "cell_type": "code",
            "source": "create or alter proc GetQuoteSentimentAPI \r\nas\r\n\tdeclare @py nvarchar(max);\r\n\t\r\n\tset @py = N'import requests\r\nfrom pandas.io.json import json_normalize\r\n\r\nsubscription_key = \"4b425e435c474294934631e2a813e993\" \r\ntext_analytics_base_url = \"https://eastus2.api.cognitive.microsoft.com/text/analytics/v2.0/\"\r\nsentiment_url = text_analytics_base_url + \"sentiment\"\r\n\r\ndf = jsondocs\r\n\r\nheaders  = {\"Ocp-Apim-Subscription-Key\": subscription_key, \"content-type\": \"application/json\"}\r\nresponse = requests.post(sentiment_url, headers = headers, data = df.iloc[0][0].encode()) \r\n\r\nrds = response.json()\r\ndf2 = json_normalize(rds, \"documents\")'; \r\n\r\n\tdrop table if exists apiresults;\r\n\tcreate table apiresults (id int, score float);\r\n\r\n\tinsert into apiresults\r\n\texec sp_execute_external_script @language = N'Python'\r\n\t\t,@script = @py\r\n\t\t,@input_data_1 = N'select * from JsonDocuments'\r\n\t\t,@input_data_1_name = N'jsondocs'\r\n   \t\t,@output_data_1_name =  N'df2'\r\n\tselect * from apiresults;\r\ngo\r\nexec GetQuoteSentimentAPI\r\ngo",
            "metadata": {},
            "outputs": [],
            "execution_count": 0
        }
    ]
}