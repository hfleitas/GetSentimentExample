{
    "metadata": {
        "kernelspec": {
            "name": "SQL",
            "display_name": "SQL",
            "language": "sql"
        },
        "language_info": {
            "name": "sql",
            "version": ""
        }
    },
    "nbformat_minor": 2,
    "nbformat": 4,
    "cells": [
        {
            "cell_type": "markdown",
            "source": "## 🐱‍👤 Trollhunter, Don't forget the 🔑\r\nhttps://tvtropes.org/pmwiki/pmwiki.php/Quotes/Trollhunters",
            "metadata": {}
        },
        {
            "cell_type": "code",
            "source": "drop table if exists quotes;\r\n\r\ncreate table quotes (\r\n    quoteid     int             identity(1,1) primary key clustered,\r\n    character   varchar(128)    not null,\r\n    quote       nvarchar(max)   not null,\r\n    sentiment   float\r\n);\r\n\r\ninsert into quotes (character, quote)\r\nvalues \r\n ('The Magical Incantation that activates the Amulet', 'For the glory of Merlin, Daylight is mine to command!')\r\n,('Strickler', 'Now, I think I know what has you so distraught, Jim.')\r\n,('Jim', 'You do?')\r\n,('Strickler', 'It''s like I told you yesterday, you have a lot on your shoulders. Too much, in my opinion, for someone your age. And I think that this opportunity...')\r\n,('Jim', 'Chess?')\r\n,('Strickler', '...I think it''s causing you anxiety. I know you want to be there for your mother, but it''s as a great poet once wrote, \"\"Do what''s good for you, or you''re not good for anybody.\"\" [Bell goes off.]')\r\n,('Jim', 'Hey thanks for the advice. I like talking to you.')\r\n,('Strickler', 'Always.')\r\n\r\n,('Jim', 'So, the previous Trollhunter, what, retired?.')\r\n,('AAARRRGGHH!!!', 'Was felled.')\r\n,('Jim', 'Felled?')\r\n,('AAARRRGGHH!!!', 'Means killed.')\r\n,('Blinky', 'Turned to stone and smashed. Kanjigar the Courageous was his name. Brutally slain by a ruthless troll named Bular.')\r\n,('Tobes', 'Don''t worry dude. This Bular guy probably just got lucky.')\r\n,('Blinky', 'The evidence does not suggest that. Bular is a formidable opponent.')\r\n,('Jim', 'Then the other guy, he was just off his game or something, right?')\r\n,('Blinky', 'Doubtful. Kanjigar was perhaps the most alert and able of all the Trollhunters.')\r\n,('Jim', 'But not the best, I''m betting.')\r\n,('Blinky', 'Oh, the very best. Many songs and sagas have been written about him.')\r\n\r\n,('Blinky', 'Destiny is a gift. Some go their entire lives, living existence as a quiet desperation. Never learning the truth that what feels as though a burden pushing down upon our shoulders, is actually, a sense of purpose that lifts us to greater heights. Never forget that fear is but the precursor to valour, that to strive and triumph in the face of fear, is what is means to be a hero. Don''t think, Master Jim. Become!')\r\n\r\n,('AAARRRGGHH!!!', 'Amulet chose.')\r\n,('Vendal', 'So Draal tells me... ridiculous. However, the amulet has been known to make ill-fated choices, as you know better than most.')\r\n,('Jim', 'What''s that mean?')\r\n,('AAARRRGGHH!!!', 'Blinky trained Trollhunter before. Unkar \"\"the Unfortunate.\"\"')\r\n,('Jim', 'Why is he unfortunate?')\r\n,('AAARRRGGHH!!!', 'First night out, torn.')\r\n,('Jim', 'Like, conflicted?')\r\n,('AAARRRGGHH!!!', 'No. Limb from limb.')\r\n\r\n,('Vendel', 'You''ve never met a conspiracy theory you didn''t like.')\r\n,('Blinky', 'I hate conspiracies. That is why I am dedicates to rooting them out.')\r\n,('Vendel', 'Like you rooted out the plot to rid Trollmarket of all its cat meat?')\r\n,('Blinky', 'That was a misunderstanding.')\r\n,('Vendel', 'Or the time you were convinced we were infested with flea trolls?')\r\n,('Blinky', 'Precaution is the soul of virtue.')\r\n,('Vendel', 'Everyone in Troll Market thinks you''re paranoid.')\r\n,('Blinky', 'If it''s everyone, it must be a conspiracy!')\r\n\r\n,('Jim', 'Sixteenth birthday, but do I get a Vespa? No. I get a food processor and a killer flying troll!')\r\n,('Barbara Lake', 'I don''t care what you''re doing, but if you''re not out of my house in five-seconds, I have an orange belt in Krav Maga, and I will not hesitate to use it.')\r\n,('Vendel', 'You humans cut stones to unlock their beauty, but trolls cut stones to unlock their power.')\r\n,('Blinky', 'Ah! Powers of this device are limited to three rules. According to the inscription, if my Salickacious is correct, the first is that only one person can step outside of time.')\r\n,('Toby', 'Oh.')\r\n,('Blinky', 'Secondly, the time-stopping effect lasts for precisely 43 minutes and 9 seconds.')\r\n,('Claire', 'And the third?')\r\n,('Blinky', 'You can only use it, uh… three times. Well! Now, we know the rules!')\r\n,('Toby', 'Wait! You just used that thing, like, twice!')\r\n,('Blinky', 'Well the first was to test its ability and the second, to demonstrate it to all of you.')\r\n,('Jim', 'Blink, you wasted our shots!')\r\n\r\n,('Magical Incantation that appears on the Amulet', 'For the doom of Gunmar, Eclipse is mine to command!')\r\n\r\n,('Blinky', 'Not a rock. Dwärkstone.')\r\n,('Jim', 'Dork-stone?')\r\n,('Blinky', 'Dwärkstone.')\r\n,('Claire', 'Dork-stone?')\r\n,('Aaarrrgghh!!!', 'Close enough.')\r\n,('Blinky', 'Dwärkstone is incredibly rare, highly volatile, and the only guaranteed way to expel a gruesome.')\r\n,('Toby', 'All I''m hearing is \"\"dork-stone.\"\"')\r\n\r\n,('Otto', 'And once the vicious one realizes he has no further use for an old, blind troll… I— Well.. [Does the Throat-Slitting Gesture.]')\r\n,('Dictatious', '…well, what? You know I can''t see.')\r\n,('Otto', 'Oh. I moves my thumb across my throat. It is, as we say, a killing motion.')\r\n\r\n,('Claire', 'Let''s try \"good cop, bad cop.\"')\r\n,('Blinky', 'I think I know where you’re going with this. I shall play this game.[Claire knocks on door] Open up, RotGut, or I''ll kick down this door! [RotGut answers.]')\r\n,('Gut', 'Ailment or curse?')\r\n,('Claire', 'Neither, you two-headed dirtbag! We need information. Gunmar’s got a mole down here, and you''re gonna tell us who it is!')\r\n,('Rot', 'Why is she being so mean to us, Gut?')\r\n,('Gut', 'We don''t share this sort of thing. Salesman-client confidentiality.')\r\n,('Claire', 'Oh, you wanna obstruct official Trollhunting business? Is that what you wanna do? Now you''ve done it! I feel my anger rising. I can''t control it. You might want to talk to my partner, because I''m about to explode! [Claire winks to Blinky. He winks back.]')\r\n,('Blinky', 'Ahem. [Blinky shouts and pulls out a live dwärkstone.] If you don''t tell us what we need to know this instant, I''m turning us all into a smoking crater! [RotGut shuts their windows.]')\r\n,('Gut', 'Are you insane? You''re gonna kill us all!')\r\n,('Claire', 'Whoa whoa, Blinky, what are you doing?')\r\n,('Blinky', 'I''m buying baby. I''m buying the farm if they don''t start talking!')\r\n,('Claire', 'Wait, I thought I was the bad cop.')\r\n,('Blinky', 'I thought I was the bad cop. Your performance felt a little ho-hum.')\r\n,('Draal', 'It has been my honor ... fleshbag.')\r\n\r\n,('Claire', 'Let''s try \"good cop, bad cop.\"')\r\n,('Blinky', 'I think I know where you''re going with this. I shall play this game. [Claire knocks on door] Open up, RotGut, or I''ll kick down this door! [RotGut answers.]')\r\n,('Gut', 'Ailment or curse?')\r\n,('Claire', 'Neither, you two-headed dirtbag! We need information. Gunmar''s got a mole down here, and you''re gonna tell us who it is!')\r\n,('Rot', 'Why is she being so mean to us, Gut?')\r\n,('Gut', 'We don''t share this sort of thing. Salesman-client confidentiality.')\r\n,('Claire', 'Oh, you wanna obstruct official Trollhunting business? Is that what you wanna do? Now you''ve done it! I feel my anger rising. I can''t control it. You might want to talk to my partner, because I''m about to explode! [Claire winks to Blinky. He winks back.]')\r\n,('Blinky', 'Ahem. [Blinky shouts and pulls out a live dwärkstone.] If you don''t tell us what we need to know this instant, I''m turning us all into a smoking crater! [RotGut shuts their windows.]')\r\n,('Gut', 'Are you insane? You''re gonna kill us all!')\r\n,('Claire', 'Whoa whoa, Blinky, what are you doing?')\r\n,('Blinky', 'I’m buying baby. I''m buying the farm if they don''t start talking!')\r\n,('Claire', 'Wait, I thought I was the bad cop.')\r\n,('Blinky', 'I thought I was the bad cop. Your performance felt a little ho-hum.')\r\n;",
            "metadata": {},
            "outputs": [
                {
                    "output_type": "display_data",
                    "data": {
                        "text/html": "(85 rows affected)"
                    },
                    "metadata": {}
                },
                {
                    "output_type": "display_data",
                    "data": {
                        "text/html": "Total execution time: 00:00:00.033"
                    },
                    "metadata": {}
                }
            ],
            "execution_count": 5
        },
        {
            "cell_type": "markdown",
            "source": "## 🧠‍‍ 👓",
            "metadata": {}
        },
        {
            "cell_type": "code",
            "source": "drop view if exists JsonQuotes\r\ngo\r\ncreate view JsonQuotes\r\nas \r\nselect (\r\n    select  top(select cast(count(*)*.8 as int) from Quotes)\r\n            quoteid as id, \r\n            'en' as language, \r\n            Quote as text \r\n    from    Quotes \r\n    for json path, root('documents')\r\n) as documents\r\ngo\r\nexec sp_execute_external_script @language = N'Python'\r\n    ,@script = N'DocOut = DocIn'\r\n    ,@input_data_1 = N'select * from JsonQuotes;'\r\n    ,@input_data_1_name  = N'DocIn'\r\n    ,@output_data_1_name =  N'DocOut'\r\nwith result sets ((DocOut varchar(max)));\r\ngo",
            "metadata": {},
            "outputs": [
                {
                    "output_type": "display_data",
                    "data": {
                        "text/html": "Commands completed successfully."
                    },
                    "metadata": {}
                },
                {
                    "output_type": "display_data",
                    "data": {
                        "text/html": "Commands completed successfully."
                    },
                    "metadata": {}
                },
                {
                    "output_type": "display_data",
                    "data": {
                        "text/html": "(1 row affected)"
                    },
                    "metadata": {}
                },
                {
                    "output_type": "display_data",
                    "data": {
                        "text/html": "Total execution time: 00:00:00.348"
                    },
                    "metadata": {}
                },
                {
                    "output_type": "execute_result",
                    "execution_count": 17,
                    "data": {
                        "application/vnd.dataresource+json": {
                            "schema": {
                                "fields": [
                                    {
                                        "name": "DocOut"
                                    }
                                ]
                            },
                            "data": [
                                {
                                    "0": "{\"documents\":[{\"id\":1,\"language\":\"en\",\"text\":\"For the glory of Merlin, Daylight is mine to command!\"},{\"id\":2,\"language\":\"en\",\"text\":\"Now, I think I know what has you so distraught, Jim.\"},{\"id\":3,\"language\":\"en\",\"text\":\"You do?\"},{\"id\":4,\"language\":\"en\",\"text\":\"It's like I told you yesterday, you have a lot on your shoulders. Too much, in my opinion, for someone your age. And I think that this opportunity...\"},{\"id\":5,\"language\":\"en\",\"text\":\"Chess?\"},{\"id\":6,\"language\":\"en\",\"text\":\"...I think it's causing you anxiety. I know you want to be there for your mother, but it's as a great poet once wrote, \\\"\\\"Do what's good for you, or you're not good for anybody.\\\"\\\" [Bell goes off.]\"},{\"id\":7,\"language\":\"en\",\"text\":\"Hey thanks for the advice. I like talking to you.\"},{\"id\":8,\"language\":\"en\",\"text\":\"Always.\"},{\"id\":9,\"language\":\"en\",\"text\":\"So, the previous Trollhunter, what, retired?.\"},{\"id\":10,\"language\":\"en\",\"text\":\"Was felled.\"},{\"id\":11,\"language\":\"en\",\"text\":\"Felled?\"},{\"id\":12,\"language\":\"en\",\"text\":\"Means killed.\"},{\"id\":13,\"language\":\"en\",\"text\":\"Turned to stone and smashed. Kanjigar the Courageous was his name. Brutally slain by a ruthless troll named Bular.\"},{\"id\":14,\"language\":\"en\",\"text\":\"Don't worry dude. This Bular guy probably just got lucky.\"},{\"id\":15,\"language\":\"en\",\"text\":\"The evidence does not suggest that. Bular is a formidable opponent.\"},{\"id\":16,\"language\":\"en\",\"text\":\"Then the other guy, he was just off his game or something, right?\"},{\"id\":17,\"language\":\"en\",\"text\":\"Doubtful. Kanjigar was perhaps the most alert and able of all the Trollhunters.\"},{\"id\":18,\"language\":\"en\",\"text\":\"But not the best, I'm betting.\"},{\"id\":19,\"language\":\"en\",\"text\":\"Oh, the very best. Many songs and sagas have been written about him.\"},{\"id\":20,\"language\":\"en\",\"text\":\"Destiny is a gift. Some go their entire lives, living existence as a quiet desperation. Never learning the truth that what feels as though a burden pushing down upon our shoulders, is actually, a sense of purpose that lifts us to greater heights. Never forget that fear is but the precursor to valour, that to strive and triumph in the face of fear, is what is means to be a hero. Don't think, Master Jim. Become!\"},{\"id\":21,\"language\":\"en\",\"text\":\"Amulet chose.\"},{\"id\":22,\"language\":\"en\",\"text\":\"So Draal tells me... ridiculous. However, the amulet has been known to make ill-fated choices, as you know better than most.\"},{\"id\":23,\"language\":\"en\",\"text\":\"What's that mean?\"},{\"id\":24,\"language\":\"en\",\"text\":\"Blinky trained Trollhunter before. Unkar \\\"\\\"the Unfortunate.\\\"\\\"\"},{\"id\":25,\"language\":\"en\",\"text\":\"Why is he unfortunate?\"},{\"id\":26,\"language\":\"en\",\"text\":\"First night out, torn.\"},{\"id\":27,\"language\":\"en\",\"text\":\"Like, conflicted?\"},{\"id\":28,\"language\":\"en\",\"text\":\"No. Limb from limb.\"},{\"id\":29,\"language\":\"en\",\"text\":\"You've never met a conspiracy theory you didn't like.\"},{\"id\":30,\"language\":\"en\",\"text\":\"I hate conspiracies. That is why I am dedicates to rooting them out.\"},{\"id\":31,\"language\":\"en\",\"text\":\"Like you rooted out the plot to rid Trollmarket of all its cat meat?\"},{\"id\":32,\"language\":\"en\",\"text\":\"That was a misunderstanding.\"},{\"id\":33,\"language\":\"en\",\"text\":\"Or the time you were convinced we were infested with flea trolls?\"},{\"id\":34,\"language\":\"en\",\"text\":\"Precaution is the soul of virtue.\"},{\"id\":35,\"language\":\"en\",\"text\":\"Everyone in Troll Market thinks you're paranoid.\"},{\"id\":36,\"language\":\"en\",\"text\":\"If it's everyone, it must be a conspiracy!\"},{\"id\":37,\"language\":\"en\",\"text\":\"Sixteenth birthday, but do I get a Vespa? No. I get a food processor and a killer flying troll!\"},{\"id\":38,\"language\":\"en\",\"text\":\"I don't care what you're doing, but if you're not out of my house in five-seconds, I have an orange belt in Krav Maga, and I will not hesitate to use it.\"},{\"id\":39,\"language\":\"en\",\"text\":\"You humans cut stones to unlock their beauty, but trolls cut stones to unlock their power.\"},{\"id\":40,\"language\":\"en\",\"text\":\"Ah! Powers of this device are limited to three rules. According to the inscription, if my Salickacious is correct, the first is that only one person can step outside of time.\"},{\"id\":41,\"language\":\"en\",\"text\":\"Oh.\"},{\"id\":42,\"language\":\"en\",\"text\":\"Secondly, the time-stopping effect lasts for precisely 43 minutes and 9 seconds.\"},{\"id\":43,\"language\":\"en\",\"text\":\"And the third?\"},{\"id\":44,\"language\":\"en\",\"text\":\"You can only use it, uh… three times. Well! Now, we know the rules!\"},{\"id\":45,\"language\":\"en\",\"text\":\"Wait! You just used that thing, like, twice!\"},{\"id\":46,\"language\":\"en\",\"text\":\"Well the first was to test its ability and the second, to demonstrate it to all of you.\"},{\"id\":47,\"language\":\"en\",\"text\":\"Blink, you wasted our shots!\"},{\"id\":48,\"language\":\"en\",\"text\":\"For the doom of Gunmar, Eclipse is mine to command!\"},{\"id\":49,\"language\":\"en\",\"text\":\"Not a rock. Dwärkstone.\"},{\"id\":50,\"language\":\"en\",\"text\":\"Dork-stone?\"},{\"id\":51,\"language\":\"en\",\"text\":\"Dwärkstone.\"},{\"id\":52,\"language\":\"en\",\"text\":\"Dork-stone?\"},{\"id\":53,\"language\":\"en\",\"text\":\"Close enough.\"},{\"id\":54,\"language\":\"en\",\"text\":\"Dwärkstone is incredibly rare, highly volatile, and the only guaranteed way to expel a gruesome.\"},{\"id\":55,\"language\":\"en\",\"text\":\"All I'm hearing is \\\"\\\"dork-stone.\\\"\\\"\"},{\"id\":56,\"language\":\"en\",\"text\":\"And once the vicious one realizes he has no further use for an old, blind troll… I— Well.. [Does the Throat-Slitting Gesture.]\"},{\"id\":57,\"language\":\"en\",\"text\":\"…well, what? You know I can't see.\"},{\"id\":58,\"language\":\"en\",\"text\":\"Oh. I moves my thumb across my throat. It is, as we say, a killing motion.\"},{\"id\":59,\"language\":\"en\",\"text\":\"Let's try \\\"good cop, bad cop.\\\"\"},{\"id\":60,\"language\":\"en\",\"text\":\"I think I know where you’re going with this. I shall play this game.[Claire knocks on door] Open up, RotGut, or I'll kick down this door! [RotGut answers.]\"},{\"id\":61,\"language\":\"en\",\"text\":\"Ailment or curse?\"},{\"id\":62,\"language\":\"en\",\"text\":\"Neither, you two-headed dirtbag! We need information. Gunmar’s got a mole down here, and you're gonna tell us who it is!\"},{\"id\":63,\"language\":\"en\",\"text\":\"Why is she being so mean to us, Gut?\"},{\"id\":64,\"language\":\"en\",\"text\":\"We don't share this sort of thing. Salesman-client confidentiality.\"},{\"id\":65,\"language\":\"en\",\"text\":\"Oh, you wanna obstruct official Trollhunting business? Is that what you wanna do? Now you've done it! I feel my anger rising. I can't control it. You might want to talk to my partner, because I'm about to explode! [Claire winks to Blinky. He winks back.]\"},{\"id\":66,\"language\":\"en\",\"text\":\"Ahem. [Blinky shouts and pulls out a live dwärkstone.] If you don't tell us what we need to know this instant, I'm turning us all into a smoking crater! [RotGut shuts their windows.]\"},{\"id\":67,\"language\":\"en\",\"text\":\"Are you insane? You're gonna kill us all!\"},{\"id\":68,\"language\":\"en\",\"text\":\"Whoa whoa, Blinky, what are you doing?\"}]}"
                                }
                            ]
                        },
                        "text/html": "<table><tr><th>DocOut</th></tr><tr><td>{&quot;documents&quot;:[{&quot;id&quot;:1,&quot;language&quot;:&quot;en&quot;,&quot;text&quot;:&quot;For the glory of Merlin, Daylight is mine to command!&quot;},{&quot;id&quot;:2,&quot;language&quot;:&quot;en&quot;,&quot;text&quot;:&quot;Now, I think I know what has you so distraught, Jim.&quot;},{&quot;id&quot;:3,&quot;language&quot;:&quot;en&quot;,&quot;text&quot;:&quot;You do?&quot;},{&quot;id&quot;:4,&quot;language&quot;:&quot;en&quot;,&quot;text&quot;:&quot;It's like I told you yesterday, you have a lot on your shoulders. Too much, in my opinion, for someone your age. And I think that this opportunity...&quot;},{&quot;id&quot;:5,&quot;language&quot;:&quot;en&quot;,&quot;text&quot;:&quot;Chess?&quot;},{&quot;id&quot;:6,&quot;language&quot;:&quot;en&quot;,&quot;text&quot;:&quot;...I think it's causing you anxiety. I know you want to be there for your mother, but it's as a great poet once wrote, \\&quot;\\&quot;Do what's good for you, or you're not good for anybody.\\&quot;\\&quot; [Bell goes off.]&quot;},{&quot;id&quot;:7,&quot;language&quot;:&quot;en&quot;,&quot;text&quot;:&quot;Hey thanks for the advice. I like talking to you.&quot;},{&quot;id&quot;:8,&quot;language&quot;:&quot;en&quot;,&quot;text&quot;:&quot;Always.&quot;},{&quot;id&quot;:9,&quot;language&quot;:&quot;en&quot;,&quot;text&quot;:&quot;So, the previous Trollhunter, what, retired?.&quot;},{&quot;id&quot;:10,&quot;language&quot;:&quot;en&quot;,&quot;text&quot;:&quot;Was felled.&quot;},{&quot;id&quot;:11,&quot;language&quot;:&quot;en&quot;,&quot;text&quot;:&quot;Felled?&quot;},{&quot;id&quot;:12,&quot;language&quot;:&quot;en&quot;,&quot;text&quot;:&quot;Means killed.&quot;},{&quot;id&quot;:13,&quot;language&quot;:&quot;en&quot;,&quot;text&quot;:&quot;Turned to stone and smashed. Kanjigar the Courageous was his name. Brutally slain by a ruthless troll named Bular.&quot;},{&quot;id&quot;:14,&quot;language&quot;:&quot;en&quot;,&quot;text&quot;:&quot;Don't worry dude. This Bular guy probably just got lucky.&quot;},{&quot;id&quot;:15,&quot;language&quot;:&quot;en&quot;,&quot;text&quot;:&quot;The evidence does not suggest that. Bular is a formidable opponent.&quot;},{&quot;id&quot;:16,&quot;language&quot;:&quot;en&quot;,&quot;text&quot;:&quot;Then the other guy, he was just off his game or something, right?&quot;},{&quot;id&quot;:17,&quot;language&quot;:&quot;en&quot;,&quot;text&quot;:&quot;Doubtful. Kanjigar was perhaps the most alert and able of all the Trollhunters.&quot;},{&quot;id&quot;:18,&quot;language&quot;:&quot;en&quot;,&quot;text&quot;:&quot;But not the best, I'm betting.&quot;},{&quot;id&quot;:19,&quot;language&quot;:&quot;en&quot;,&quot;text&quot;:&quot;Oh, the very best. Many songs and sagas have been written about him.&quot;},{&quot;id&quot;:20,&quot;language&quot;:&quot;en&quot;,&quot;text&quot;:&quot;Destiny is a gift. Some go their entire lives, living existence as a quiet desperation. Never learning the truth that what feels as though a burden pushing down upon our shoulders, is actually, a sense of purpose that lifts us to greater heights. Never forget that fear is but the precursor to valour, that to strive and triumph in the face of fear, is what is means to be a hero. Don't think, Master Jim. Become!&quot;},{&quot;id&quot;:21,&quot;language&quot;:&quot;en&quot;,&quot;text&quot;:&quot;Amulet chose.&quot;},{&quot;id&quot;:22,&quot;language&quot;:&quot;en&quot;,&quot;text&quot;:&quot;So Draal tells me... ridiculous. However, the amulet has been known to make ill-fated choices, as you know better than most.&quot;},{&quot;id&quot;:23,&quot;language&quot;:&quot;en&quot;,&quot;text&quot;:&quot;What's that mean?&quot;},{&quot;id&quot;:24,&quot;language&quot;:&quot;en&quot;,&quot;text&quot;:&quot;Blinky trained Trollhunter before. Unkar \\&quot;\\&quot;the Unfortunate.\\&quot;\\&quot;&quot;},{&quot;id&quot;:25,&quot;language&quot;:&quot;en&quot;,&quot;text&quot;:&quot;Why is he unfortunate?&quot;},{&quot;id&quot;:26,&quot;language&quot;:&quot;en&quot;,&quot;text&quot;:&quot;First night out, torn.&quot;},{&quot;id&quot;:27,&quot;language&quot;:&quot;en&quot;,&quot;text&quot;:&quot;Like, conflicted?&quot;},{&quot;id&quot;:28,&quot;language&quot;:&quot;en&quot;,&quot;text&quot;:&quot;No. Limb from limb.&quot;},{&quot;id&quot;:29,&quot;language&quot;:&quot;en&quot;,&quot;text&quot;:&quot;You've never met a conspiracy theory you didn't like.&quot;},{&quot;id&quot;:30,&quot;language&quot;:&quot;en&quot;,&quot;text&quot;:&quot;I hate conspiracies. That is why I am dedicates to rooting them out.&quot;},{&quot;id&quot;:31,&quot;language&quot;:&quot;en&quot;,&quot;text&quot;:&quot;Like you rooted out the plot to rid Trollmarket of all its cat meat?&quot;},{&quot;id&quot;:32,&quot;language&quot;:&quot;en&quot;,&quot;text&quot;:&quot;That was a misunderstanding.&quot;},{&quot;id&quot;:33,&quot;language&quot;:&quot;en&quot;,&quot;text&quot;:&quot;Or the time you were convinced we were infested with flea trolls?&quot;},{&quot;id&quot;:34,&quot;language&quot;:&quot;en&quot;,&quot;text&quot;:&quot;Precaution is the soul of virtue.&quot;},{&quot;id&quot;:35,&quot;language&quot;:&quot;en&quot;,&quot;text&quot;:&quot;Everyone in Troll Market thinks you're paranoid.&quot;},{&quot;id&quot;:36,&quot;language&quot;:&quot;en&quot;,&quot;text&quot;:&quot;If it's everyone, it must be a conspiracy!&quot;},{&quot;id&quot;:37,&quot;language&quot;:&quot;en&quot;,&quot;text&quot;:&quot;Sixteenth birthday, but do I get a Vespa? No. I get a food processor and a killer flying troll!&quot;},{&quot;id&quot;:38,&quot;language&quot;:&quot;en&quot;,&quot;text&quot;:&quot;I don't care what you're doing, but if you're not out of my house in five-seconds, I have an orange belt in Krav Maga, and I will not hesitate to use it.&quot;},{&quot;id&quot;:39,&quot;language&quot;:&quot;en&quot;,&quot;text&quot;:&quot;You humans cut stones to unlock their beauty, but trolls cut stones to unlock their power.&quot;},{&quot;id&quot;:40,&quot;language&quot;:&quot;en&quot;,&quot;text&quot;:&quot;Ah! Powers of this device are limited to three rules. According to the inscription, if my Salickacious is correct, the first is that only one person can step outside of time.&quot;},{&quot;id&quot;:41,&quot;language&quot;:&quot;en&quot;,&quot;text&quot;:&quot;Oh.&quot;},{&quot;id&quot;:42,&quot;language&quot;:&quot;en&quot;,&quot;text&quot;:&quot;Secondly, the time-stopping effect lasts for precisely 43 minutes and 9 seconds.&quot;},{&quot;id&quot;:43,&quot;language&quot;:&quot;en&quot;,&quot;text&quot;:&quot;And the third?&quot;},{&quot;id&quot;:44,&quot;language&quot;:&quot;en&quot;,&quot;text&quot;:&quot;You can only use it, uh… three times. Well! Now, we know the rules!&quot;},{&quot;id&quot;:45,&quot;language&quot;:&quot;en&quot;,&quot;text&quot;:&quot;Wait! You just used that thing, like, twice!&quot;},{&quot;id&quot;:46,&quot;language&quot;:&quot;en&quot;,&quot;text&quot;:&quot;Well the first was to test its ability and the second, to demonstrate it to all of you.&quot;},{&quot;id&quot;:47,&quot;language&quot;:&quot;en&quot;,&quot;text&quot;:&quot;Blink, you wasted our shots!&quot;},{&quot;id&quot;:48,&quot;language&quot;:&quot;en&quot;,&quot;text&quot;:&quot;For the doom of Gunmar, Eclipse is mine to command!&quot;},{&quot;id&quot;:49,&quot;language&quot;:&quot;en&quot;,&quot;text&quot;:&quot;Not a rock. Dwärkstone.&quot;},{&quot;id&quot;:50,&quot;language&quot;:&quot;en&quot;,&quot;text&quot;:&quot;Dork-stone?&quot;},{&quot;id&quot;:51,&quot;language&quot;:&quot;en&quot;,&quot;text&quot;:&quot;Dwärkstone.&quot;},{&quot;id&quot;:52,&quot;language&quot;:&quot;en&quot;,&quot;text&quot;:&quot;Dork-stone?&quot;},{&quot;id&quot;:53,&quot;language&quot;:&quot;en&quot;,&quot;text&quot;:&quot;Close enough.&quot;},{&quot;id&quot;:54,&quot;language&quot;:&quot;en&quot;,&quot;text&quot;:&quot;Dwärkstone is incredibly rare, highly volatile, and the only guaranteed way to expel a gruesome.&quot;},{&quot;id&quot;:55,&quot;language&quot;:&quot;en&quot;,&quot;text&quot;:&quot;All I'm hearing is \\&quot;\\&quot;dork-stone.\\&quot;\\&quot;&quot;},{&quot;id&quot;:56,&quot;language&quot;:&quot;en&quot;,&quot;text&quot;:&quot;And once the vicious one realizes he has no further use for an old, blind troll… I— Well.. [Does the Throat-Slitting Gesture.]&quot;},{&quot;id&quot;:57,&quot;language&quot;:&quot;en&quot;,&quot;text&quot;:&quot;…well, what? You know I can't see.&quot;},{&quot;id&quot;:58,&quot;language&quot;:&quot;en&quot;,&quot;text&quot;:&quot;Oh. I moves my thumb across my throat. It is, as we say, a killing motion.&quot;},{&quot;id&quot;:59,&quot;language&quot;:&quot;en&quot;,&quot;text&quot;:&quot;Let's try \\&quot;good cop, bad cop.\\&quot;&quot;},{&quot;id&quot;:60,&quot;language&quot;:&quot;en&quot;,&quot;text&quot;:&quot;I think I know where you’re going with this. I shall play this game.[Claire knocks on door] Open up, RotGut, or I'll kick down this door! [RotGut answers.]&quot;},{&quot;id&quot;:61,&quot;language&quot;:&quot;en&quot;,&quot;text&quot;:&quot;Ailment or curse?&quot;},{&quot;id&quot;:62,&quot;language&quot;:&quot;en&quot;,&quot;text&quot;:&quot;Neither, you two-headed dirtbag! We need information. Gunmar’s got a mole down here, and you're gonna tell us who it is!&quot;},{&quot;id&quot;:63,&quot;language&quot;:&quot;en&quot;,&quot;text&quot;:&quot;Why is she being so mean to us, Gut?&quot;},{&quot;id&quot;:64,&quot;language&quot;:&quot;en&quot;,&quot;text&quot;:&quot;We don't share this sort of thing. Salesman-client confidentiality.&quot;},{&quot;id&quot;:65,&quot;language&quot;:&quot;en&quot;,&quot;text&quot;:&quot;Oh, you wanna obstruct official Trollhunting business? Is that what you wanna do? Now you've done it! I feel my anger rising. I can't control it. You might want to talk to my partner, because I'm about to explode! [Claire winks to Blinky. He winks back.]&quot;},{&quot;id&quot;:66,&quot;language&quot;:&quot;en&quot;,&quot;text&quot;:&quot;Ahem. [Blinky shouts and pulls out a live dwärkstone.] If you don't tell us what we need to know this instant, I'm turning us all into a smoking crater! [RotGut shuts their windows.]&quot;},{&quot;id&quot;:67,&quot;language&quot;:&quot;en&quot;,&quot;text&quot;:&quot;Are you insane? You're gonna kill us all!&quot;},{&quot;id&quot;:68,&quot;language&quot;:&quot;en&quot;,&quot;text&quot;:&quot;Whoa whoa, Blinky, what are you doing?&quot;}]}</td></tr></table>"
                    },
                    "metadata": {}
                }
            ],
            "execution_count": 17
        },
        {
            "cell_type": "markdown",
            "source": "## 🧠 🐱‍👤 Trollhunter, Don't forget the 🔑",
            "metadata": {}
        },
        {
            "cell_type": "code",
            "source": "create or alter proc GetCognitiveAPIQuoteSentiment\r\nas\r\n\tset nocount on;\r\n\tdeclare @py nvarchar(max);\r\n\t\r\n\tset @py = N'import requests\r\nfrom pandas.io.json import json_normalize\r\n\r\nsubscription_key = \"4b425e435c474294934631e2a813e993\" \r\ntext_analytics_base_url = \"https://eastus2.api.cognitive.microsoft.com/text/analytics/v2.0/\"\r\nsentiment_url = text_analytics_base_url + \"sentiment\"\r\n\r\ndf = jsondocs\r\n\r\nheaders  = {\"Ocp-Apim-Subscription-Key\": subscription_key, \"content-type\": \"application/json\"}\r\nresponse = requests.post(sentiment_url, headers = headers, data = df.iloc[0][0].encode()) \r\n\r\nrds = response.json()\r\ndf2 = json_normalize(rds, \"documents\")'; \r\n\r\n\tdrop table if exists apiresults;\r\n\tcreate table apiresults (id int, score float);\r\n\r\n\tinsert into apiresults\r\n\texec sp_execute_external_script @language = N'Python'\r\n\t\t,@script = @py\r\n\t\t,@input_data_1 = N'select * from JsonQuotes'\r\n\t\t,@input_data_1_name = N'jsondocs'\r\n   \t\t,@output_data_1_name =  N'df2'\r\n\tselect * from apiresults;\t\r\n\t\r\n\tupdate \tq \r\n\t\tset q.Sentiment = a.Score\r\n\tfrom \tQuotes q\r\n\tinner join apiresults a\r\n\t\ton q.quoteid = a.id\r\n\twhere \tq.Sentiment is null;\r\ngo\r\n\r\nexec GetCognitiveAPIQuoteSentiment;\r\n\r\nselect * from Quotes;",
            "metadata": {},
            "outputs": [
                {
                    "output_type": "display_data",
                    "data": {
                        "text/html": "Commands completed successfully."
                    },
                    "metadata": {}
                },
                {
                    "output_type": "display_data",
                    "data": {
                        "text/html": "(85 rows affected)"
                    },
                    "metadata": {}
                },
                {
                    "output_type": "display_data",
                    "data": {
                        "text/html": "Total execution time: 00:00:01.324"
                    },
                    "metadata": {}
                },
                {
                    "output_type": "execute_result",
                    "execution_count": 28,
                    "data": {
                        "application/vnd.dataresource+json": {
                            "schema": {
                                "fields": [
                                    {
                                        "name": "id"
                                    },
                                    {
                                        "name": "score"
                                    }
                                ]
                            },
                            "data": [
                                {
                                    "0": "1",
                                    "1": "0.5"
                                },
                                {
                                    "0": "2",
                                    "1": "0.127195328474045"
                                },
                                {
                                    "0": "3",
                                    "1": "0.833639144897461"
                                },
                                {
                                    "0": "4",
                                    "1": "0.951666951179504"
                                },
                                {
                                    "0": "5",
                                    "1": "0.752673923969269"
                                },
                                {
                                    "0": "6",
                                    "1": "0.155267655849457"
                                },
                                {
                                    "0": "7",
                                    "1": "0.99489951133728"
                                },
                                {
                                    "0": "8",
                                    "1": "0.202319025993347"
                                },
                                {
                                    "0": "9",
                                    "1": "0.707312762737274"
                                },
                                {
                                    "0": "10",
                                    "1": "0.770378530025482"
                                },
                                {
                                    "0": "11",
                                    "1": "0.752673923969269"
                                },
                                {
                                    "0": "12",
                                    "1": "0.0333146154880524"
                                },
                                {
                                    "0": "13",
                                    "1": "0.126827985048294"
                                },
                                {
                                    "0": "14",
                                    "1": "0.751771688461304"
                                },
                                {
                                    "0": "15",
                                    "1": "0.959390044212341"
                                },
                                {
                                    "0": "16",
                                    "1": "0.734701573848724"
                                },
                                {
                                    "0": "17",
                                    "1": "0.833906531333923"
                                },
                                {
                                    "0": "18",
                                    "1": "0.862226605415344"
                                },
                                {
                                    "0": "19",
                                    "1": "0.926859736442566"
                                },
                                {
                                    "0": "20",
                                    "1": "0.216602802276611"
                                },
                                {
                                    "0": "21",
                                    "1": "0.829804539680481"
                                },
                                {
                                    "0": "22",
                                    "1": "0.189253866672516"
                                },
                                {
                                    "0": "23",
                                    "1": "0.177251577377319"
                                },
                                {
                                    "0": "24",
                                    "1": "0.9146848320961"
                                },
                                {
                                    "0": "25",
                                    "1": "0.149161249399185"
                                },
                                {
                                    "0": "26",
                                    "1": "0.14259734749794"
                                },
                                {
                                    "0": "27",
                                    "1": "0.845325410366058"
                                },
                                {
                                    "0": "28",
                                    "1": "0.260658204555511"
                                },
                                {
                                    "0": "29",
                                    "1": "0.0656450688838959"
                                },
                                {
                                    "0": "30",
                                    "1": "0.135810256004333"
                                },
                                {
                                    "0": "31",
                                    "1": "0.5"
                                },
                                {
                                    "0": "32",
                                    "1": "0.752821326255798"
                                },
                                {
                                    "0": "33",
                                    "1": "0.116598814725876"
                                },
                                {
                                    "0": "34",
                                    "1": "0.5"
                                },
                                {
                                    "0": "35",
                                    "1": "0.0940112769603729"
                                },
                                {
                                    "0": "36",
                                    "1": "0.768608093261719"
                                },
                                {
                                    "0": "37",
                                    "1": "0.740261495113373"
                                },
                                {
                                    "0": "38",
                                    "1": "0.5"
                                },
                                {
                                    "0": "39",
                                    "1": "0.5"
                                },
                                {
                                    "0": "40",
                                    "1": "0.251510977745056"
                                },
                                {
                                    "0": "41",
                                    "1": "0.201930612325668"
                                },
                                {
                                    "0": "42",
                                    "1": "0.187605142593384"
                                },
                                {
                                    "0": "43",
                                    "1": "0.893395900726318"
                                },
                                {
                                    "0": "44",
                                    "1": "0.884166896343231"
                                },
                                {
                                    "0": "45",
                                    "1": "0.712464451789856"
                                },
                                {
                                    "0": "46",
                                    "1": "0.717190980911255"
                                },
                                {
                                    "0": "47",
                                    "1": "0.0236875116825104"
                                },
                                {
                                    "0": "48",
                                    "1": "0.143676519393921"
                                },
                                {
                                    "0": "49",
                                    "1": "0.972780287265778"
                                },
                                {
                                    "0": "50",
                                    "1": "0.837691783905029"
                                },
                                {
                                    "0": "51",
                                    "1": "0.752673923969269"
                                },
                                {
                                    "0": "52",
                                    "1": "0.837691783905029"
                                },
                                {
                                    "0": "53",
                                    "1": "0.755347609519958"
                                },
                                {
                                    "0": "54",
                                    "1": "0.00676903128623962"
                                },
                                {
                                    "0": "55",
                                    "1": "0.775820374488831"
                                },
                                {
                                    "0": "56",
                                    "1": "0.07220658659935"
                                },
                                {
                                    "0": "57",
                                    "1": "0.127677083015442"
                                },
                                {
                                    "0": "58",
                                    "1": "0.101832717657089"
                                },
                                {
                                    "0": "59",
                                    "1": "0.833982408046722"
                                },
                                {
                                    "0": "60",
                                    "1": "0.709245324134827"
                                },
                                {
                                    "0": "61",
                                    "1": "0.017357736825943"
                                },
                                {
                                    "0": "62",
                                    "1": "0.696716129779816"
                                },
                                {
                                    "0": "63",
                                    "1": "0.0966427028179169"
                                },
                                {
                                    "0": "64",
                                    "1": "0.5"
                                },
                                {
                                    "0": "65",
                                    "1": "0.0715209543704987"
                                },
                                {
                                    "0": "66",
                                    "1": "0.5"
                                },
                                {
                                    "0": "67",
                                    "1": "0.0977185964584351"
                                },
                                {
                                    "0": "68",
                                    "1": "0.751162648200989"
                                }
                            ]
                        },
                        "text/html": "<table><tr><th>id</th><th>score</th></tr><tr><td>1</td><td>0.5</td></tr><tr><td>2</td><td>0.127195328474045</td></tr><tr><td>3</td><td>0.833639144897461</td></tr><tr><td>4</td><td>0.951666951179504</td></tr><tr><td>5</td><td>0.752673923969269</td></tr><tr><td>6</td><td>0.155267655849457</td></tr><tr><td>7</td><td>0.99489951133728</td></tr><tr><td>8</td><td>0.202319025993347</td></tr><tr><td>9</td><td>0.707312762737274</td></tr><tr><td>10</td><td>0.770378530025482</td></tr><tr><td>11</td><td>0.752673923969269</td></tr><tr><td>12</td><td>0.0333146154880524</td></tr><tr><td>13</td><td>0.126827985048294</td></tr><tr><td>14</td><td>0.751771688461304</td></tr><tr><td>15</td><td>0.959390044212341</td></tr><tr><td>16</td><td>0.734701573848724</td></tr><tr><td>17</td><td>0.833906531333923</td></tr><tr><td>18</td><td>0.862226605415344</td></tr><tr><td>19</td><td>0.926859736442566</td></tr><tr><td>20</td><td>0.216602802276611</td></tr><tr><td>21</td><td>0.829804539680481</td></tr><tr><td>22</td><td>0.189253866672516</td></tr><tr><td>23</td><td>0.177251577377319</td></tr><tr><td>24</td><td>0.9146848320961</td></tr><tr><td>25</td><td>0.149161249399185</td></tr><tr><td>26</td><td>0.14259734749794</td></tr><tr><td>27</td><td>0.845325410366058</td></tr><tr><td>28</td><td>0.260658204555511</td></tr><tr><td>29</td><td>0.0656450688838959</td></tr><tr><td>30</td><td>0.135810256004333</td></tr><tr><td>31</td><td>0.5</td></tr><tr><td>32</td><td>0.752821326255798</td></tr><tr><td>33</td><td>0.116598814725876</td></tr><tr><td>34</td><td>0.5</td></tr><tr><td>35</td><td>0.0940112769603729</td></tr><tr><td>36</td><td>0.768608093261719</td></tr><tr><td>37</td><td>0.740261495113373</td></tr><tr><td>38</td><td>0.5</td></tr><tr><td>39</td><td>0.5</td></tr><tr><td>40</td><td>0.251510977745056</td></tr><tr><td>41</td><td>0.201930612325668</td></tr><tr><td>42</td><td>0.187605142593384</td></tr><tr><td>43</td><td>0.893395900726318</td></tr><tr><td>44</td><td>0.884166896343231</td></tr><tr><td>45</td><td>0.712464451789856</td></tr><tr><td>46</td><td>0.717190980911255</td></tr><tr><td>47</td><td>0.0236875116825104</td></tr><tr><td>48</td><td>0.143676519393921</td></tr><tr><td>49</td><td>0.972780287265778</td></tr><tr><td>50</td><td>0.837691783905029</td></tr><tr><td>51</td><td>0.752673923969269</td></tr><tr><td>52</td><td>0.837691783905029</td></tr><tr><td>53</td><td>0.755347609519958</td></tr><tr><td>54</td><td>0.00676903128623962</td></tr><tr><td>55</td><td>0.775820374488831</td></tr><tr><td>56</td><td>0.07220658659935</td></tr><tr><td>57</td><td>0.127677083015442</td></tr><tr><td>58</td><td>0.101832717657089</td></tr><tr><td>59</td><td>0.833982408046722</td></tr><tr><td>60</td><td>0.709245324134827</td></tr><tr><td>61</td><td>0.017357736825943</td></tr><tr><td>62</td><td>0.696716129779816</td></tr><tr><td>63</td><td>0.0966427028179169</td></tr><tr><td>64</td><td>0.5</td></tr><tr><td>65</td><td>0.0715209543704987</td></tr><tr><td>66</td><td>0.5</td></tr><tr><td>67</td><td>0.0977185964584351</td></tr><tr><td>68</td><td>0.751162648200989</td></tr></table>"
                    },
                    "metadata": {}
                },
                {
                    "output_type": "execute_result",
                    "execution_count": 28,
                    "data": {
                        "application/vnd.dataresource+json": {
                            "schema": {
                                "fields": [
                                    {
                                        "name": "quoteid"
                                    },
                                    {
                                        "name": "character"
                                    },
                                    {
                                        "name": "quote"
                                    },
                                    {
                                        "name": "sentiment"
                                    }
                                ]
                            },
                            "data": [
                                {
                                    "0": "1",
                                    "1": "The Magical Incantation that activates the Amulet",
                                    "2": "For the glory of Merlin, Daylight is mine to command!",
                                    "3": "0.5"
                                },
                                {
                                    "0": "2",
                                    "1": "Strickler",
                                    "2": "Now, I think I know what has you so distraught, Jim.",
                                    "3": "0.127195328474045"
                                },
                                {
                                    "0": "3",
                                    "1": "Jim",
                                    "2": "You do?",
                                    "3": "0.833639144897461"
                                },
                                {
                                    "0": "4",
                                    "1": "Strickler",
                                    "2": "It's like I told you yesterday, you have a lot on your shoulders. Too much, in my opinion, for someone your age. And I think that this opportunity...",
                                    "3": "0.951666951179504"
                                },
                                {
                                    "0": "5",
                                    "1": "Jim",
                                    "2": "Chess?",
                                    "3": "0.752673923969269"
                                },
                                {
                                    "0": "6",
                                    "1": "Strickler",
                                    "2": "...I think it's causing you anxiety. I know you want to be there for your mother, but it's as a great poet once wrote, \"\"Do what's good for you, or you're not good for anybody.\"\" [Bell goes off.]",
                                    "3": "0.155267655849457"
                                },
                                {
                                    "0": "7",
                                    "1": "Jim",
                                    "2": "Hey thanks for the advice. I like talking to you.",
                                    "3": "0.99489951133728"
                                },
                                {
                                    "0": "8",
                                    "1": "Strickler",
                                    "2": "Always.",
                                    "3": "0.202319025993347"
                                },
                                {
                                    "0": "9",
                                    "1": "Jim",
                                    "2": "So, the previous Trollhunter, what, retired?.",
                                    "3": "0.707312762737274"
                                },
                                {
                                    "0": "10",
                                    "1": "AAARRRGGHH!!!",
                                    "2": "Was felled.",
                                    "3": "0.770378530025482"
                                },
                                {
                                    "0": "11",
                                    "1": "Jim",
                                    "2": "Felled?",
                                    "3": "0.752673923969269"
                                },
                                {
                                    "0": "12",
                                    "1": "AAARRRGGHH!!!",
                                    "2": "Means killed.",
                                    "3": "0.0333146154880524"
                                },
                                {
                                    "0": "13",
                                    "1": "Blinky",
                                    "2": "Turned to stone and smashed. Kanjigar the Courageous was his name. Brutally slain by a ruthless troll named Bular.",
                                    "3": "0.126827985048294"
                                },
                                {
                                    "0": "14",
                                    "1": "Tobes",
                                    "2": "Don't worry dude. This Bular guy probably just got lucky.",
                                    "3": "0.751771688461304"
                                },
                                {
                                    "0": "15",
                                    "1": "Blinky",
                                    "2": "The evidence does not suggest that. Bular is a formidable opponent.",
                                    "3": "0.959390044212341"
                                },
                                {
                                    "0": "16",
                                    "1": "Jim",
                                    "2": "Then the other guy, he was just off his game or something, right?",
                                    "3": "0.734701573848724"
                                },
                                {
                                    "0": "17",
                                    "1": "Blinky",
                                    "2": "Doubtful. Kanjigar was perhaps the most alert and able of all the Trollhunters.",
                                    "3": "0.833906531333923"
                                },
                                {
                                    "0": "18",
                                    "1": "Jim",
                                    "2": "But not the best, I'm betting.",
                                    "3": "0.862226605415344"
                                },
                                {
                                    "0": "19",
                                    "1": "Blinky",
                                    "2": "Oh, the very best. Many songs and sagas have been written about him.",
                                    "3": "0.926859736442566"
                                },
                                {
                                    "0": "20",
                                    "1": "Blinky",
                                    "2": "Destiny is a gift. Some go their entire lives, living existence as a quiet desperation. Never learning the truth that what feels as though a burden pushing down upon our shoulders, is actually, a sense of purpose that lifts us to greater heights. Never forget that fear is but the precursor to valour, that to strive and triumph in the face of fear, is what is means to be a hero. Don't think, Master Jim. Become!",
                                    "3": "0.216602802276611"
                                },
                                {
                                    "0": "21",
                                    "1": "AAARRRGGHH!!!",
                                    "2": "Amulet chose.",
                                    "3": "0.829804539680481"
                                },
                                {
                                    "0": "22",
                                    "1": "Vendal",
                                    "2": "So Draal tells me... ridiculous. However, the amulet has been known to make ill-fated choices, as you know better than most.",
                                    "3": "0.189253866672516"
                                },
                                {
                                    "0": "23",
                                    "1": "Jim",
                                    "2": "What's that mean?",
                                    "3": "0.177251577377319"
                                },
                                {
                                    "0": "24",
                                    "1": "AAARRRGGHH!!!",
                                    "2": "Blinky trained Trollhunter before. Unkar \"\"the Unfortunate.\"\"",
                                    "3": "0.9146848320961"
                                },
                                {
                                    "0": "25",
                                    "1": "Jim",
                                    "2": "Why is he unfortunate?",
                                    "3": "0.149161249399185"
                                },
                                {
                                    "0": "26",
                                    "1": "AAARRRGGHH!!!",
                                    "2": "First night out, torn.",
                                    "3": "0.14259734749794"
                                },
                                {
                                    "0": "27",
                                    "1": "Jim",
                                    "2": "Like, conflicted?",
                                    "3": "0.845325410366058"
                                },
                                {
                                    "0": "28",
                                    "1": "AAARRRGGHH!!!",
                                    "2": "No. Limb from limb.",
                                    "3": "0.260658204555511"
                                },
                                {
                                    "0": "29",
                                    "1": "Vendel",
                                    "2": "You've never met a conspiracy theory you didn't like.",
                                    "3": "0.0656450688838959"
                                },
                                {
                                    "0": "30",
                                    "1": "Blinky",
                                    "2": "I hate conspiracies. That is why I am dedicates to rooting them out.",
                                    "3": "0.135810256004333"
                                },
                                {
                                    "0": "31",
                                    "1": "Vendel",
                                    "2": "Like you rooted out the plot to rid Trollmarket of all its cat meat?",
                                    "3": "0.5"
                                },
                                {
                                    "0": "32",
                                    "1": "Blinky",
                                    "2": "That was a misunderstanding.",
                                    "3": "0.752821326255798"
                                },
                                {
                                    "0": "33",
                                    "1": "Vendel",
                                    "2": "Or the time you were convinced we were infested with flea trolls?",
                                    "3": "0.116598814725876"
                                },
                                {
                                    "0": "34",
                                    "1": "Blinky",
                                    "2": "Precaution is the soul of virtue.",
                                    "3": "0.5"
                                },
                                {
                                    "0": "35",
                                    "1": "Vendel",
                                    "2": "Everyone in Troll Market thinks you're paranoid.",
                                    "3": "0.0940112769603729"
                                },
                                {
                                    "0": "36",
                                    "1": "Blinky",
                                    "2": "If it's everyone, it must be a conspiracy!",
                                    "3": "0.768608093261719"
                                },
                                {
                                    "0": "37",
                                    "1": "Jim",
                                    "2": "Sixteenth birthday, but do I get a Vespa? No. I get a food processor and a killer flying troll!",
                                    "3": "0.740261495113373"
                                },
                                {
                                    "0": "38",
                                    "1": "Barbara Lake",
                                    "2": "I don't care what you're doing, but if you're not out of my house in five-seconds, I have an orange belt in Krav Maga, and I will not hesitate to use it.",
                                    "3": "0.5"
                                },
                                {
                                    "0": "39",
                                    "1": "Vendel",
                                    "2": "You humans cut stones to unlock their beauty, but trolls cut stones to unlock their power.",
                                    "3": "0.5"
                                },
                                {
                                    "0": "40",
                                    "1": "Blinky",
                                    "2": "Ah! Powers of this device are limited to three rules. According to the inscription, if my Salickacious is correct, the first is that only one person can step outside of time.",
                                    "3": "0.251510977745056"
                                },
                                {
                                    "0": "41",
                                    "1": "Toby",
                                    "2": "Oh.",
                                    "3": "0.201930612325668"
                                },
                                {
                                    "0": "42",
                                    "1": "Blinky",
                                    "2": "Secondly, the time-stopping effect lasts for precisely 43 minutes and 9 seconds.",
                                    "3": "0.187605142593384"
                                },
                                {
                                    "0": "43",
                                    "1": "Claire",
                                    "2": "And the third?",
                                    "3": "0.893395900726318"
                                },
                                {
                                    "0": "44",
                                    "1": "Blinky",
                                    "2": "You can only use it, uh… three times. Well! Now, we know the rules!",
                                    "3": "0.884166896343231"
                                },
                                {
                                    "0": "45",
                                    "1": "Toby",
                                    "2": "Wait! You just used that thing, like, twice!",
                                    "3": "0.712464451789856"
                                },
                                {
                                    "0": "46",
                                    "1": "Blinky",
                                    "2": "Well the first was to test its ability and the second, to demonstrate it to all of you.",
                                    "3": "0.717190980911255"
                                },
                                {
                                    "0": "47",
                                    "1": "Jim",
                                    "2": "Blink, you wasted our shots!",
                                    "3": "0.0236875116825104"
                                },
                                {
                                    "0": "48",
                                    "1": "Magical Incantation that appears on the Amulet",
                                    "2": "For the doom of Gunmar, Eclipse is mine to command!",
                                    "3": "0.143676519393921"
                                },
                                {
                                    "0": "49",
                                    "1": "Blinky",
                                    "2": "Not a rock. Dwärkstone.",
                                    "3": "0.972780287265778"
                                },
                                {
                                    "0": "50",
                                    "1": "Jim",
                                    "2": "Dork-stone?",
                                    "3": "0.837691783905029"
                                },
                                {
                                    "0": "51",
                                    "1": "Blinky",
                                    "2": "Dwärkstone.",
                                    "3": "0.752673923969269"
                                },
                                {
                                    "0": "52",
                                    "1": "Claire",
                                    "2": "Dork-stone?",
                                    "3": "0.837691783905029"
                                },
                                {
                                    "0": "53",
                                    "1": "Aaarrrgghh!!!",
                                    "2": "Close enough.",
                                    "3": "0.755347609519958"
                                },
                                {
                                    "0": "54",
                                    "1": "Blinky",
                                    "2": "Dwärkstone is incredibly rare, highly volatile, and the only guaranteed way to expel a gruesome.",
                                    "3": "0.00676903128623962"
                                },
                                {
                                    "0": "55",
                                    "1": "Toby",
                                    "2": "All I'm hearing is \"\"dork-stone.\"\"",
                                    "3": "0.775820374488831"
                                },
                                {
                                    "0": "56",
                                    "1": "Otto",
                                    "2": "And once the vicious one realizes he has no further use for an old, blind troll… I— Well.. [Does the Throat-Slitting Gesture.]",
                                    "3": "0.07220658659935"
                                },
                                {
                                    "0": "57",
                                    "1": "Dictatious",
                                    "2": "…well, what? You know I can't see.",
                                    "3": "0.127677083015442"
                                },
                                {
                                    "0": "58",
                                    "1": "Otto",
                                    "2": "Oh. I moves my thumb across my throat. It is, as we say, a killing motion.",
                                    "3": "0.101832717657089"
                                },
                                {
                                    "0": "59",
                                    "1": "Claire",
                                    "2": "Let's try \"good cop, bad cop.\"",
                                    "3": "0.833982408046722"
                                },
                                {
                                    "0": "60",
                                    "1": "Blinky",
                                    "2": "I think I know where you’re going with this. I shall play this game.[Claire knocks on door] Open up, RotGut, or I'll kick down this door! [RotGut answers.]",
                                    "3": "0.709245324134827"
                                },
                                {
                                    "0": "61",
                                    "1": "Gut",
                                    "2": "Ailment or curse?",
                                    "3": "0.017357736825943"
                                },
                                {
                                    "0": "62",
                                    "1": "Claire",
                                    "2": "Neither, you two-headed dirtbag! We need information. Gunmar’s got a mole down here, and you're gonna tell us who it is!",
                                    "3": "0.696716129779816"
                                },
                                {
                                    "0": "63",
                                    "1": "Rot",
                                    "2": "Why is she being so mean to us, Gut?",
                                    "3": "0.0966427028179169"
                                },
                                {
                                    "0": "64",
                                    "1": "Gut",
                                    "2": "We don't share this sort of thing. Salesman-client confidentiality.",
                                    "3": "0.5"
                                },
                                {
                                    "0": "65",
                                    "1": "Claire",
                                    "2": "Oh, you wanna obstruct official Trollhunting business? Is that what you wanna do? Now you've done it! I feel my anger rising. I can't control it. You might want to talk to my partner, because I'm about to explode! [Claire winks to Blinky. He winks back.]",
                                    "3": "0.0715209543704987"
                                },
                                {
                                    "0": "66",
                                    "1": "Blinky",
                                    "2": "Ahem. [Blinky shouts and pulls out a live dwärkstone.] If you don't tell us what we need to know this instant, I'm turning us all into a smoking crater! [RotGut shuts their windows.]",
                                    "3": "0.5"
                                },
                                {
                                    "0": "67",
                                    "1": "Gut",
                                    "2": "Are you insane? You're gonna kill us all!",
                                    "3": "0.0977185964584351"
                                },
                                {
                                    "0": "68",
                                    "1": "Claire",
                                    "2": "Whoa whoa, Blinky, what are you doing?",
                                    "3": "0.751162648200989"
                                },
                                {
                                    "0": "69",
                                    "1": "Blinky",
                                    "2": "I'm buying baby. I'm buying the farm if they don't start talking!",
                                    "3": "NULL"
                                },
                                {
                                    "0": "70",
                                    "1": "Claire",
                                    "2": "Wait, I thought I was the bad cop.",
                                    "3": "NULL"
                                },
                                {
                                    "0": "71",
                                    "1": "Blinky",
                                    "2": "I thought I was the bad cop. Your performance felt a little ho-hum.",
                                    "3": "NULL"
                                },
                                {
                                    "0": "72",
                                    "1": "Draal",
                                    "2": "It has been my honor ... fleshbag.",
                                    "3": "NULL"
                                },
                                {
                                    "0": "73",
                                    "1": "Claire",
                                    "2": "Let's try \"good cop, bad cop.\"",
                                    "3": "NULL"
                                },
                                {
                                    "0": "74",
                                    "1": "Blinky",
                                    "2": "I think I know where you're going with this. I shall play this game. [Claire knocks on door] Open up, RotGut, or I'll kick down this door! [RotGut answers.]",
                                    "3": "NULL"
                                },
                                {
                                    "0": "75",
                                    "1": "Gut",
                                    "2": "Ailment or curse?",
                                    "3": "NULL"
                                },
                                {
                                    "0": "76",
                                    "1": "Claire",
                                    "2": "Neither, you two-headed dirtbag! We need information. Gunmar's got a mole down here, and you're gonna tell us who it is!",
                                    "3": "NULL"
                                },
                                {
                                    "0": "77",
                                    "1": "Rot",
                                    "2": "Why is she being so mean to us, Gut?",
                                    "3": "NULL"
                                },
                                {
                                    "0": "78",
                                    "1": "Gut",
                                    "2": "We don't share this sort of thing. Salesman-client confidentiality.",
                                    "3": "NULL"
                                },
                                {
                                    "0": "79",
                                    "1": "Claire",
                                    "2": "Oh, you wanna obstruct official Trollhunting business? Is that what you wanna do? Now you've done it! I feel my anger rising. I can't control it. You might want to talk to my partner, because I'm about to explode! [Claire winks to Blinky. He winks back.]",
                                    "3": "NULL"
                                },
                                {
                                    "0": "80",
                                    "1": "Blinky",
                                    "2": "Ahem. [Blinky shouts and pulls out a live dwärkstone.] If you don't tell us what we need to know this instant, I'm turning us all into a smoking crater! [RotGut shuts their windows.]",
                                    "3": "NULL"
                                },
                                {
                                    "0": "81",
                                    "1": "Gut",
                                    "2": "Are you insane? You're gonna kill us all!",
                                    "3": "NULL"
                                },
                                {
                                    "0": "82",
                                    "1": "Claire",
                                    "2": "Whoa whoa, Blinky, what are you doing?",
                                    "3": "NULL"
                                },
                                {
                                    "0": "83",
                                    "1": "Blinky",
                                    "2": "I’m buying baby. I'm buying the farm if they don't start talking!",
                                    "3": "NULL"
                                },
                                {
                                    "0": "84",
                                    "1": "Claire",
                                    "2": "Wait, I thought I was the bad cop.",
                                    "3": "NULL"
                                },
                                {
                                    "0": "85",
                                    "1": "Blinky",
                                    "2": "I thought I was the bad cop. Your performance felt a little ho-hum.",
                                    "3": "NULL"
                                }
                            ]
                        },
                        "text/html": "<table><tr><th>quoteid</th><th>character</th><th>quote</th><th>sentiment</th></tr><tr><td>1</td><td>The Magical Incantation that activates the Amulet</td><td>For the glory of Merlin, Daylight is mine to command!</td><td>0.5</td></tr><tr><td>2</td><td>Strickler</td><td>Now, I think I know what has you so distraught, Jim.</td><td>0.127195328474045</td></tr><tr><td>3</td><td>Jim</td><td>You do?</td><td>0.833639144897461</td></tr><tr><td>4</td><td>Strickler</td><td>It's like I told you yesterday, you have a lot on your shoulders. Too much, in my opinion, for someone your age. And I think that this opportunity...</td><td>0.951666951179504</td></tr><tr><td>5</td><td>Jim</td><td>Chess?</td><td>0.752673923969269</td></tr><tr><td>6</td><td>Strickler</td><td>...I think it's causing you anxiety. I know you want to be there for your mother, but it's as a great poet once wrote, &quot;&quot;Do what's good for you, or you're not good for anybody.&quot;&quot; [Bell goes off.]</td><td>0.155267655849457</td></tr><tr><td>7</td><td>Jim</td><td>Hey thanks for the advice. I like talking to you.</td><td>0.99489951133728</td></tr><tr><td>8</td><td>Strickler</td><td>Always.</td><td>0.202319025993347</td></tr><tr><td>9</td><td>Jim</td><td>So, the previous Trollhunter, what, retired?.</td><td>0.707312762737274</td></tr><tr><td>10</td><td>AAARRRGGHH!!!</td><td>Was felled.</td><td>0.770378530025482</td></tr><tr><td>11</td><td>Jim</td><td>Felled?</td><td>0.752673923969269</td></tr><tr><td>12</td><td>AAARRRGGHH!!!</td><td>Means killed.</td><td>0.0333146154880524</td></tr><tr><td>13</td><td>Blinky</td><td>Turned to stone and smashed. Kanjigar the Courageous was his name. Brutally slain by a ruthless troll named Bular.</td><td>0.126827985048294</td></tr><tr><td>14</td><td>Tobes</td><td>Don't worry dude. This Bular guy probably just got lucky.</td><td>0.751771688461304</td></tr><tr><td>15</td><td>Blinky</td><td>The evidence does not suggest that. Bular is a formidable opponent.</td><td>0.959390044212341</td></tr><tr><td>16</td><td>Jim</td><td>Then the other guy, he was just off his game or something, right?</td><td>0.734701573848724</td></tr><tr><td>17</td><td>Blinky</td><td>Doubtful. Kanjigar was perhaps the most alert and able of all the Trollhunters.</td><td>0.833906531333923</td></tr><tr><td>18</td><td>Jim</td><td>But not the best, I'm betting.</td><td>0.862226605415344</td></tr><tr><td>19</td><td>Blinky</td><td>Oh, the very best. Many songs and sagas have been written about him.</td><td>0.926859736442566</td></tr><tr><td>20</td><td>Blinky</td><td>Destiny is a gift. Some go their entire lives, living existence as a quiet desperation. Never learning the truth that what feels as though a burden pushing down upon our shoulders, is actually, a sense of purpose that lifts us to greater heights. Never forget that fear is but the precursor to valour, that to strive and triumph in the face of fear, is what is means to be a hero. Don't think, Master Jim. Become!</td><td>0.216602802276611</td></tr><tr><td>21</td><td>AAARRRGGHH!!!</td><td>Amulet chose.</td><td>0.829804539680481</td></tr><tr><td>22</td><td>Vendal</td><td>So Draal tells me... ridiculous. However, the amulet has been known to make ill-fated choices, as you know better than most.</td><td>0.189253866672516</td></tr><tr><td>23</td><td>Jim</td><td>What's that mean?</td><td>0.177251577377319</td></tr><tr><td>24</td><td>AAARRRGGHH!!!</td><td>Blinky trained Trollhunter before. Unkar &quot;&quot;the Unfortunate.&quot;&quot;</td><td>0.9146848320961</td></tr><tr><td>25</td><td>Jim</td><td>Why is he unfortunate?</td><td>0.149161249399185</td></tr><tr><td>26</td><td>AAARRRGGHH!!!</td><td>First night out, torn.</td><td>0.14259734749794</td></tr><tr><td>27</td><td>Jim</td><td>Like, conflicted?</td><td>0.845325410366058</td></tr><tr><td>28</td><td>AAARRRGGHH!!!</td><td>No. Limb from limb.</td><td>0.260658204555511</td></tr><tr><td>29</td><td>Vendel</td><td>You've never met a conspiracy theory you didn't like.</td><td>0.0656450688838959</td></tr><tr><td>30</td><td>Blinky</td><td>I hate conspiracies. That is why I am dedicates to rooting them out.</td><td>0.135810256004333</td></tr><tr><td>31</td><td>Vendel</td><td>Like you rooted out the plot to rid Trollmarket of all its cat meat?</td><td>0.5</td></tr><tr><td>32</td><td>Blinky</td><td>That was a misunderstanding.</td><td>0.752821326255798</td></tr><tr><td>33</td><td>Vendel</td><td>Or the time you were convinced we were infested with flea trolls?</td><td>0.116598814725876</td></tr><tr><td>34</td><td>Blinky</td><td>Precaution is the soul of virtue.</td><td>0.5</td></tr><tr><td>35</td><td>Vendel</td><td>Everyone in Troll Market thinks you're paranoid.</td><td>0.0940112769603729</td></tr><tr><td>36</td><td>Blinky</td><td>If it's everyone, it must be a conspiracy!</td><td>0.768608093261719</td></tr><tr><td>37</td><td>Jim</td><td>Sixteenth birthday, but do I get a Vespa? No. I get a food processor and a killer flying troll!</td><td>0.740261495113373</td></tr><tr><td>38</td><td>Barbara Lake</td><td>I don't care what you're doing, but if you're not out of my house in five-seconds, I have an orange belt in Krav Maga, and I will not hesitate to use it.</td><td>0.5</td></tr><tr><td>39</td><td>Vendel</td><td>You humans cut stones to unlock their beauty, but trolls cut stones to unlock their power.</td><td>0.5</td></tr><tr><td>40</td><td>Blinky</td><td>Ah! Powers of this device are limited to three rules. According to the inscription, if my Salickacious is correct, the first is that only one person can step outside of time.</td><td>0.251510977745056</td></tr><tr><td>41</td><td>Toby</td><td>Oh.</td><td>0.201930612325668</td></tr><tr><td>42</td><td>Blinky</td><td>Secondly, the time-stopping effect lasts for precisely 43 minutes and 9 seconds.</td><td>0.187605142593384</td></tr><tr><td>43</td><td>Claire</td><td>And the third?</td><td>0.893395900726318</td></tr><tr><td>44</td><td>Blinky</td><td>You can only use it, uh… three times. Well! Now, we know the rules!</td><td>0.884166896343231</td></tr><tr><td>45</td><td>Toby</td><td>Wait! You just used that thing, like, twice!</td><td>0.712464451789856</td></tr><tr><td>46</td><td>Blinky</td><td>Well the first was to test its ability and the second, to demonstrate it to all of you.</td><td>0.717190980911255</td></tr><tr><td>47</td><td>Jim</td><td>Blink, you wasted our shots!</td><td>0.0236875116825104</td></tr><tr><td>48</td><td>Magical Incantation that appears on the Amulet</td><td>For the doom of Gunmar, Eclipse is mine to command!</td><td>0.143676519393921</td></tr><tr><td>49</td><td>Blinky</td><td>Not a rock. Dwärkstone.</td><td>0.972780287265778</td></tr><tr><td>50</td><td>Jim</td><td>Dork-stone?</td><td>0.837691783905029</td></tr><tr><td>51</td><td>Blinky</td><td>Dwärkstone.</td><td>0.752673923969269</td></tr><tr><td>52</td><td>Claire</td><td>Dork-stone?</td><td>0.837691783905029</td></tr><tr><td>53</td><td>Aaarrrgghh!!!</td><td>Close enough.</td><td>0.755347609519958</td></tr><tr><td>54</td><td>Blinky</td><td>Dwärkstone is incredibly rare, highly volatile, and the only guaranteed way to expel a gruesome.</td><td>0.00676903128623962</td></tr><tr><td>55</td><td>Toby</td><td>All I'm hearing is &quot;&quot;dork-stone.&quot;&quot;</td><td>0.775820374488831</td></tr><tr><td>56</td><td>Otto</td><td>And once the vicious one realizes he has no further use for an old, blind troll… I— Well.. [Does the Throat-Slitting Gesture.]</td><td>0.07220658659935</td></tr><tr><td>57</td><td>Dictatious</td><td>…well, what? You know I can't see.</td><td>0.127677083015442</td></tr><tr><td>58</td><td>Otto</td><td>Oh. I moves my thumb across my throat. It is, as we say, a killing motion.</td><td>0.101832717657089</td></tr><tr><td>59</td><td>Claire</td><td>Let's try &quot;good cop, bad cop.&quot;</td><td>0.833982408046722</td></tr><tr><td>60</td><td>Blinky</td><td>I think I know where you’re going with this. I shall play this game.[Claire knocks on door] Open up, RotGut, or I'll kick down this door! [RotGut answers.]</td><td>0.709245324134827</td></tr><tr><td>61</td><td>Gut</td><td>Ailment or curse?</td><td>0.017357736825943</td></tr><tr><td>62</td><td>Claire</td><td>Neither, you two-headed dirtbag! We need information. Gunmar’s got a mole down here, and you're gonna tell us who it is!</td><td>0.696716129779816</td></tr><tr><td>63</td><td>Rot</td><td>Why is she being so mean to us, Gut?</td><td>0.0966427028179169</td></tr><tr><td>64</td><td>Gut</td><td>We don't share this sort of thing. Salesman-client confidentiality.</td><td>0.5</td></tr><tr><td>65</td><td>Claire</td><td>Oh, you wanna obstruct official Trollhunting business? Is that what you wanna do? Now you've done it! I feel my anger rising. I can't control it. You might want to talk to my partner, because I'm about to explode! [Claire winks to Blinky. He winks back.]</td><td>0.0715209543704987</td></tr><tr><td>66</td><td>Blinky</td><td>Ahem. [Blinky shouts and pulls out a live dwärkstone.] If you don't tell us what we need to know this instant, I'm turning us all into a smoking crater! [RotGut shuts their windows.]</td><td>0.5</td></tr><tr><td>67</td><td>Gut</td><td>Are you insane? You're gonna kill us all!</td><td>0.0977185964584351</td></tr><tr><td>68</td><td>Claire</td><td>Whoa whoa, Blinky, what are you doing?</td><td>0.751162648200989</td></tr><tr><td>69</td><td>Blinky</td><td>I'm buying baby. I'm buying the farm if they don't start talking!</td><td>NULL</td></tr><tr><td>70</td><td>Claire</td><td>Wait, I thought I was the bad cop.</td><td>NULL</td></tr><tr><td>71</td><td>Blinky</td><td>I thought I was the bad cop. Your performance felt a little ho-hum.</td><td>NULL</td></tr><tr><td>72</td><td>Draal</td><td>It has been my honor ... fleshbag.</td><td>NULL</td></tr><tr><td>73</td><td>Claire</td><td>Let's try &quot;good cop, bad cop.&quot;</td><td>NULL</td></tr><tr><td>74</td><td>Blinky</td><td>I think I know where you're going with this. I shall play this game. [Claire knocks on door] Open up, RotGut, or I'll kick down this door! [RotGut answers.]</td><td>NULL</td></tr><tr><td>75</td><td>Gut</td><td>Ailment or curse?</td><td>NULL</td></tr><tr><td>76</td><td>Claire</td><td>Neither, you two-headed dirtbag! We need information. Gunmar's got a mole down here, and you're gonna tell us who it is!</td><td>NULL</td></tr><tr><td>77</td><td>Rot</td><td>Why is she being so mean to us, Gut?</td><td>NULL</td></tr><tr><td>78</td><td>Gut</td><td>We don't share this sort of thing. Salesman-client confidentiality.</td><td>NULL</td></tr><tr><td>79</td><td>Claire</td><td>Oh, you wanna obstruct official Trollhunting business? Is that what you wanna do? Now you've done it! I feel my anger rising. I can't control it. You might want to talk to my partner, because I'm about to explode! [Claire winks to Blinky. He winks back.]</td><td>NULL</td></tr><tr><td>80</td><td>Blinky</td><td>Ahem. [Blinky shouts and pulls out a live dwärkstone.] If you don't tell us what we need to know this instant, I'm turning us all into a smoking crater! [RotGut shuts their windows.]</td><td>NULL</td></tr><tr><td>81</td><td>Gut</td><td>Are you insane? You're gonna kill us all!</td><td>NULL</td></tr><tr><td>82</td><td>Claire</td><td>Whoa whoa, Blinky, what are you doing?</td><td>NULL</td></tr><tr><td>83</td><td>Blinky</td><td>I’m buying baby. I'm buying the farm if they don't start talking!</td><td>NULL</td></tr><tr><td>84</td><td>Claire</td><td>Wait, I thought I was the bad cop.</td><td>NULL</td></tr><tr><td>85</td><td>Blinky</td><td>I thought I was the bad cop. Your performance felt a little ho-hum.</td><td>NULL</td></tr></table>"
                    },
                    "metadata": {}
                }
            ],
            "execution_count": 28
        },
        {
            "cell_type": "markdown",
            "source": "## 💖 Here's an idea.",
            "metadata": {}
        },
        {
            "cell_type": "code",
            "source": "select  avg(sentiment) as AvgSentimtment, character \r\nfrom    quotes\r\nwhere   sentiment is not null\r\ngroup by character\r\norder by AvgSentimtment desc",
            "metadata": {},
            "outputs": [
                {
                    "output_type": "display_data",
                    "data": {
                        "text/html": "(16 rows affected)"
                    },
                    "metadata": {}
                },
                {
                    "output_type": "display_data",
                    "data": {
                        "text/html": "Total execution time: 00:00:00.008"
                    },
                    "metadata": {}
                },
                {
                    "output_type": "execute_result",
                    "execution_count": 31,
                    "data": {
                        "application/vnd.dataresource+json": {
                            "schema": {
                                "fields": [
                                    {
                                        "name": "AvgSentimtment"
                                    },
                                    {
                                        "name": "character"
                                    }
                                ]
                            },
                            "data": [
                                {
                                    "0": "0.751771688461304",
                                    "1": "Tobes"
                                },
                                {
                                    "0": "0.680744970838229",
                                    "1": "Claire"
                                },
                                {
                                    "0": "0.647038959539854",
                                    "1": "Jim"
                                },
                                {
                                    "0": "0.566820518838035",
                                    "1": "Blinky"
                                },
                                {
                                    "0": "0.563405146201452",
                                    "1": "Toby"
                                },
                                {
                                    "0": "0.529540811266218",
                                    "1": "AAARRRGGHH!!!"
                                },
                                {
                                    "0": "0.5",
                                    "1": "Barbara Lake"
                                },
                                {
                                    "0": "0.5",
                                    "1": "The Magical Incantation that activates the Amulet"
                                },
                                {
                                    "0": "0.359112240374088",
                                    "1": "Strickler"
                                },
                                {
                                    "0": "0.255251032114029",
                                    "1": "Vendel"
                                },
                                {
                                    "0": "0.205025444428126",
                                    "1": "Gut"
                                },
                                {
                                    "0": "0.189253866672516",
                                    "1": "Vendal"
                                },
                                {
                                    "0": "0.143676519393921",
                                    "1": "Magical Incantation that appears on the Amulet"
                                },
                                {
                                    "0": "0.127677083015442",
                                    "1": "Dictatious"
                                },
                                {
                                    "0": "0.0966427028179169",
                                    "1": "Rot"
                                },
                                {
                                    "0": "0.0870196521282196",
                                    "1": "Otto"
                                }
                            ]
                        },
                        "text/html": "<table><tr><th>AvgSentimtment</th><th>character</th></tr><tr><td>0.751771688461304</td><td>Tobes</td></tr><tr><td>0.680744970838229</td><td>Claire</td></tr><tr><td>0.647038959539854</td><td>Jim</td></tr><tr><td>0.566820518838035</td><td>Blinky</td></tr><tr><td>0.563405146201452</td><td>Toby</td></tr><tr><td>0.529540811266218</td><td>AAARRRGGHH!!!</td></tr><tr><td>0.5</td><td>Barbara Lake</td></tr><tr><td>0.5</td><td>The Magical Incantation that activates the Amulet</td></tr><tr><td>0.359112240374088</td><td>Strickler</td></tr><tr><td>0.255251032114029</td><td>Vendel</td></tr><tr><td>0.205025444428126</td><td>Gut</td></tr><tr><td>0.189253866672516</td><td>Vendal</td></tr><tr><td>0.143676519393921</td><td>Magical Incantation that appears on the Amulet</td></tr><tr><td>0.127677083015442</td><td>Dictatious</td></tr><tr><td>0.0966427028179169</td><td>Rot</td></tr><tr><td>0.0870196521282196</td><td>Otto</td></tr></table>"
                    },
                    "metadata": {}
                }
            ],
            "execution_count": 31
        },
        {
            "cell_type": "markdown",
            "source": "## 🚀 Schema",
            "metadata": {}
        },
        {
            "cell_type": "code",
            "source": "if object_id('models') is null \r\nbegin\r\n    create table models (\r\n        language\t\tvarchar(30) not null\r\n        ,model_name\t\tvarchar(30) not null\r\n        ,model\t\t\tvarbinary(max) \r\n        ,create_time\tdatetime default(getdate())\r\n        ,created_by\t\tnvarchar(500) default(suser_sname())\r\n    primary key clustered (language, model_name)\r\n    );\r\n    alter table models add default 'Py' for language; \r\nend\r\ngo\r\n\r\ncreate or alter view QuotesForTraining\r\nas\r\n\tselect\ttop(select cast(count(*)*.8 as int) from Quotes)\r\n\t\t\tquote\r\n\t\t\t,case\r\n\t\t\t\twhen sentiment < .4 then 1 \r\n\t\t\t\twhen sentiment >= .4 and sentiment <= .6 then 2 \r\n                else 3 \r\n\t\t\tend as tag \r\n\tfrom\tquotes\r\n    where sentiment is not null;\r\ngo\r\n\r\ncreate or alter view QuotesForTesting\r\nas\r\n\tselect\ttop(select cast(count(*)*.1 as int) from Quotes)\r\n\t\t\tquote\r\n\t\t\t,case\r\n\t\t\t\twhen sentiment < .4 then 1 \r\n\t\t\t\twhen sentiment >= .4 and sentiment <= .6 then 2 \r\n                else 3 \r\n\t\t\tend as tag \r\n\tfrom\tquotes\r\n    where sentiment is null;",
            "metadata": {},
            "outputs": [
                {
                    "output_type": "display_data",
                    "data": {
                        "text/html": "Commands completed successfully."
                    },
                    "metadata": {}
                },
                {
                    "output_type": "display_data",
                    "data": {
                        "text/html": "Commands completed successfully."
                    },
                    "metadata": {}
                },
                {
                    "output_type": "display_data",
                    "data": {
                        "text/html": "Commands completed successfully."
                    },
                    "metadata": {}
                },
                {
                    "output_type": "display_data",
                    "data": {
                        "text/html": "Total execution time: 00:00:00.010"
                    },
                    "metadata": {}
                }
            ],
            "execution_count": 6
        },
        {
            "cell_type": "markdown",
            "source": "## 💰💰💰 Money bags",
            "metadata": {}
        },
        {
            "cell_type": "code",
            "source": "create or alter proc GetTrollhunterModel as\r\n\t\r\n\tdeclare @model varbinary(max), @train_script nvarchar(max);\r\n\tdelete top(1) from models where model_name = 'TrollhunterMLRealtime' and language = 'Py';\r\n\t\r\n\t--The Python script we want to execute\r\n\tset @train_script = N'\r\nfrom microsoftml import rx_logistic_regression, featurize_text, n_gram\r\nfrom revoscalepy import rx_serialize_model, RxOdbcData, rx_write_object, RxInSqlServer, rx_set_compute_context, RxLocalSeq\r\n\r\nconnection_string = \"Driver=SQL Server;Server=localhost;Database=tpcxbb_1gb;Trusted_Connection=true;\"\r\ndest = RxOdbcData(connection_string, table = \"models\")\r\n \r\ntraining_data[\"tag\"] = training_data[\"tag\"].astype(\"category\")\r\n\r\nmodelpy = rx_logistic_regression(formula = \"tag ~ features\",\r\n\t\t\t\t\t\t\t\t data = training_data, \r\n\t\t\t\t\t\t\t\t method = \"multiClass\", \r\n\t\t\t\t\t\t\t\t ml_transforms=[featurize_text(language=\"English\",\r\n\t\t\t\t\t\t\t\t\t\t\t\t\t\t\t   cols=dict(features=\"quote\"),\r\n\t\t\t\t\t\t\t\t\t\t\t\t\t\t\t   word_feature_extractor=n_gram(2, weighting=\"TfIdf\"))],\r\n\t\t\t\t\t\t\t\t train_threads=1)\r\n\r\nmodelbin = rx_serialize_model(modelpy, realtime_scoring_only = True)\r\nrx_write_object(dest, key_name=\"model_name\", key=\"TrollhunterMLRealtime\", value_name=\"model\", value=modelbin, serialize=False, compress=None, overwrite=False)'; --overwrite=false on 2019, true on 2017.\r\n\r\n\texec sp_execute_external_script @language = N'Python'\r\n\t\t,@script = @train_script\r\n\t\t,@input_data_1 = N'select * from QuotesForTraining'\r\n\t\t,@input_data_1_name = N'training_data'\r\ngo\r\n\r\nexec  GetTrollhunterModel; \r\n\r\nselect *, datalength(model) as Datalen from dbo.models; ",
            "metadata": {},
            "outputs": [],
            "execution_count": 9
        }
    ]
}